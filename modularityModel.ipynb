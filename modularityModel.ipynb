{
 "cells": [
  {
   "cell_type": "markdown",
   "metadata": {},
   "source": [
    "Import Libraries"
   ]
  },
  {
   "cell_type": "code",
   "execution_count": 22,
   "metadata": {},
   "outputs": [],
   "source": [
    "from pyvis.network import Network\n",
    "import networkx as nx\n",
    "import random\n",
    "from networkx.algorithms.community import greedy_modularity_communities\n",
    "from networkx.linalg.modularitymatrix import modularity_matrix, directed_modularity_matrix\n",
    "import numpy as np\n",
    "from scipy.linalg import eig"
   ]
  },
  {
   "cell_type": "markdown",
   "metadata": {},
   "source": [
    "Create Helper Functions"
   ]
  },
  {
   "cell_type": "code",
   "execution_count": 23,
   "metadata": {},
   "outputs": [],
   "source": [
    "# recursive function that will traverse the nodes\n",
    "def createPaper(network, authors, probStop):\n",
    "    '''\n",
    "    Will take network, list of authors, and probStop as input\n",
    "    '''\n",
    "    currAuthorID = authors[-1]\n",
    "    newNeighbors = set(network.neighbors(currAuthorID)).difference(set(authors))\n",
    "\n",
    "    # base condition: stop at node if probStop hit or there are no new neighbors to traverse\n",
    "    if random.random() < probStop or len(newNeighbors) == 0:\n",
    "        return\n",
    "    \n",
    "    # create list reprsenting probabilities for the neighboring nodes of the current coauthor\n",
    "    probs = []\n",
    "    for neighbor in newNeighbors:\n",
    "        nData = network.get_edge_data(currAuthorID, neighbor)\n",
    "        probs.extend([neighbor] * nData[\"weight\"])\n",
    "\n",
    "    # Select coauthor from neighbors probabilities list\n",
    "    coauthorID = random.choice(probs)\n",
    "\n",
    "    # update all edges of coauthors to this new author\n",
    "    for author in authors:\n",
    "        # if there is not an edge, create one\n",
    "        if not network.has_edge(author, coauthorID) and author != coauthorID:\n",
    "            network.add_edge(author, coauthorID, weight=0, width=1)\n",
    "        newWeight = network.get_edge_data(author, coauthorID)[\"weight\"] + 1\n",
    "        #network.update(edges=[ (author, coauthorID, {\"weight\": newWeight, \"width\": newWeight//2}) ])\n",
    "        network.update(edges=[ (author, coauthorID, {\"weight\": newWeight}) ])\n",
    "\n",
    "    # call function recursively with coauthor\n",
    "    authors.append(coauthorID)\n",
    "    createPaper(network, authors, probStop)\n"
   ]
  },
  {
   "cell_type": "markdown",
   "metadata": {},
   "source": [
    "Define initial parameters"
   ]
  },
  {
   "cell_type": "code",
   "execution_count": 24,
   "metadata": {},
   "outputs": [],
   "source": [
    "# define time steps\n",
    "timeSteps = 15\n",
    "\n",
    "# Probabilities\n",
    "# probability that you generate new author\n",
    "probNewAuthor = 0.5\n",
    "# probability that you stop at a given node\n",
    "probStop = 0.7\n",
    "\n",
    "# define fields\n",
    "fieldColors = {\"CS\": \"blue\", \n",
    "                \"Math\": \"green\", \n",
    "                \"Physics\": \"red\"}\n",
    "fields = list(fieldColors.keys())\n",
    "\n",
    "# define initial scholars, will be in form (id, scholarField, color)\n",
    "scholarField = random.choice(fields)\n",
    "nodeID = 0\n"
   ]
  },
  {
   "cell_type": "markdown",
   "metadata": {},
   "source": [
    "Create Model"
   ]
  },
  {
   "cell_type": "code",
   "execution_count": 25,
   "metadata": {},
   "outputs": [],
   "source": [
    "network = nx.Graph()\n",
    "scholarField = random.choice(fields)\n",
    "network.add_node(nodeID, label=scholarField, color=fieldColors[scholarField])\n",
    "# go through time steps, add new scholar and paper at each step\n",
    "for i in range(1, timeSteps):\n",
    "\n",
    "    # Choose first author, either new scholar or random choice\n",
    "    currNodes = list(network.nodes())\n",
    "    authors = [random.choice(currNodes)]\n",
    "\n",
    "    # with probability, add new author to network set as main author with a coauthor\n",
    "    if random.random() < probNewAuthor:\n",
    "        # generate author and field\n",
    "        scholarField = random.choice(fields)\n",
    "        nodeID += 1\n",
    "        author = nodeID\n",
    "        network.add_node(author, label=scholarField, color=fieldColors[scholarField])\n",
    "\n",
    "        # generate random coauthor from currNodes, which doesn't have the new node added in\n",
    "        coauthorID = random.choice(currNodes)\n",
    "        network.add_edge(author, coauthorID, weight=1, width=1)\n",
    "\n",
    "        # update authors list\n",
    "        authors = [author, coauthorID]\n",
    "\n",
    "    # Add new paper, calling function\n",
    "    createPaper(network, authors, probStop)"
   ]
  },
  {
   "cell_type": "markdown",
   "metadata": {},
   "source": [
    "Display Network"
   ]
  },
  {
   "cell_type": "code",
   "execution_count": 26,
   "metadata": {},
   "outputs": [
    {
     "name": "stdout",
     "output_type": "stream",
     "text": [
      "[(0, 1, {'weight': 1, 'width': 1}), (1, 2, {'weight': 1, 'width': 1}), (1, 3, {'weight': 2, 'width': 1}), (3, 4, {'weight': 2, 'width': 1}), (3, 5, {'weight': 1, 'width': 1}), (3, 6, {'weight': 1, 'width': 1}), (4, 6, {'weight': 1, 'width': 1}), (5, 7, {'weight': 1, 'width': 1}), (5, 8, {'weight': 1, 'width': 1}), (5, 9, {'weight': 1, 'width': 1})]\n"
     ]
    }
   ],
   "source": [
    "nt = Network()\n",
    "# populates the nodes and edges data structures\n",
    "nt.from_nx(network)\n",
    "print(network.edges.data())\n",
    "nt.show('docs/models/modularity.html')"
   ]
  },
  {
   "cell_type": "markdown",
   "metadata": {},
   "source": [
    "### Show modularity communities"
   ]
  },
  {
   "cell_type": "code",
   "execution_count": 27,
   "metadata": {},
   "outputs": [
    {
     "name": "stdout",
     "output_type": "stream",
     "text": [
      "[frozenset({8, 9, 5, 7}), frozenset({0, 1, 2}), frozenset({3, 4, 6})]\n",
      "[[-0.05  0.85 -0.05 -0.2  -0.1  -0.2  -0.1  -0.05 -0.05 -0.05]\n",
      " [ 0.85 -0.45  0.85  0.4  -0.3  -0.6  -0.3  -0.15 -0.15 -0.15]\n",
      " [-0.05  0.85 -0.05 -0.2  -0.1  -0.2  -0.1  -0.05 -0.05 -0.05]\n",
      " [-0.2   0.4  -0.2  -0.8   0.6   0.2   0.6  -0.2  -0.2  -0.2 ]\n",
      " [-0.1  -0.3  -0.1   0.6  -0.2  -0.4   0.8  -0.1  -0.1  -0.1 ]\n",
      " [-0.2  -0.6  -0.2   0.2  -0.4  -0.8  -0.4   0.8   0.8   0.8 ]\n",
      " [-0.1  -0.3  -0.1   0.6   0.8  -0.4  -0.2  -0.1  -0.1  -0.1 ]\n",
      " [-0.05 -0.15 -0.05 -0.2  -0.1   0.8  -0.1  -0.05 -0.05 -0.05]\n",
      " [-0.05 -0.15 -0.05 -0.2  -0.1   0.8  -0.1  -0.05 -0.05 -0.05]\n",
      " [-0.05 -0.15 -0.05 -0.2  -0.1   0.8  -0.1  -0.05 -0.05 -0.05]]\n"
     ]
    }
   ],
   "source": [
    "communities = greedy_modularity_communities(network)\n",
    "print(communities)\n",
    "# look at exactly whay the matrix is calculating, make sure it is the unweighted\n",
    "matrix = modularity_matrix(network)\n",
    "print(matrix)"
   ]
  },
  {
   "cell_type": "code",
   "execution_count": 28,
   "metadata": {},
   "outputs": [
    {
     "name": "stdout",
     "output_type": "stream",
     "text": [
      "[ 1.62396361e+00  1.35192270e+00 -2.36751852e+00 -1.57586051e+00\n",
      " -7.32507269e-01 -4.95195434e-17 -1.00000000e+00  1.38896158e-16\n",
      " -4.69711808e-18  0.00000000e+00]\n"
     ]
    }
   ],
   "source": [
    "# get eigenvalues and vectors of matrix, maybe use scipy instead\n",
    "eVals, eVects = np.linalg.eig(matrix)\n",
    "# find indices of largest eigenvalue, get corresponding eigenvector\n",
    "# if no positive eigenvalue, then cannot divide network further because it will not improve modularity\n",
    "if max(eVals) > 0:\n",
    "    index = np.argmax(eVals)\n",
    "    maxEvect = np.array(eVects)[index]\n",
    "    # split eigenvector into positive and negative values, collecting vertices\n",
    "    g1 = []\n",
    "    g2 = []\n",
    "    for j, val in enumerate(maxEvect):\n",
    "        if val < 0:\n",
    "            g1.append(j)\n",
    "            # test update the color\n",
    "            network.update(nodes=[(j, {\"label\": \"g1\", \"color\": \"green\"})])\n",
    "        else:\n",
    "            g2.append(j)\n",
    "            network.update(nodes=[(j, {\"label\": \"g2\", \"color\": \"red\"})])\n",
    "# print(g1)\n",
    "# print(g2)\n",
    "print(eVals)\n"
   ]
  },
  {
   "cell_type": "code",
   "execution_count": 29,
   "metadata": {},
   "outputs": [
    {
     "name": "stdout",
     "output_type": "stream",
     "text": [
      "[(0, 1, {'weight': 1, 'width': 1}), (1, 2, {'weight': 1, 'width': 1}), (1, 3, {'weight': 2, 'width': 1}), (3, 4, {'weight': 2, 'width': 1}), (3, 5, {'weight': 1, 'width': 1}), (3, 6, {'weight': 1, 'width': 1}), (4, 6, {'weight': 1, 'width': 1}), (5, 7, {'weight': 1, 'width': 1}), (5, 8, {'weight': 1, 'width': 1}), (5, 9, {'weight': 1, 'width': 1})]\n"
     ]
    }
   ],
   "source": [
    "# recreate network\n",
    "nt = Network()\n",
    "# populates the nodes and edges data structures\n",
    "nt.from_nx(network)\n",
    "print(network.edges.data())\n",
    "nt.show('docs/models/modularity.html')"
   ]
  },
  {
   "cell_type": "markdown",
   "metadata": {},
   "source": [
    "### Calculate modularity using iGraph"
   ]
  },
  {
   "cell_type": "code",
   "execution_count": 30,
   "metadata": {},
   "outputs": [
    {
     "name": "stdout",
     "output_type": "stream",
     "text": [
      "Clustering with 10 elements and 2 clusters\n",
      "[0] 0, 1, 2, 3, 4, 6\n",
      "[1] 5, 7, 8, 9\n"
     ]
    }
   ],
   "source": [
    "from igraph import Graph\n",
    "\n",
    "newGraph = Graph.from_networkx(network)\n",
    "clusters = newGraph.community_leading_eigenvector(clusters=2)\n",
    "print(clusters)\n",
    "\n",
    "# loop and update cluster colors\n",
    "for node in clusters[0]:\n",
    "    network.update(nodes=[(node, {\"label\": \"g1\", \"color\": \"green\"})])\n",
    "for node in clusters[1]:\n",
    "    network.update(nodes=[(node, {\"label\": \"g2\", \"color\": \"red\"})])"
   ]
  },
  {
   "cell_type": "code",
   "execution_count": 31,
   "metadata": {},
   "outputs": [
    {
     "name": "stdout",
     "output_type": "stream",
     "text": [
      "[(0, 1, {'weight': 1, 'width': 1}), (1, 2, {'weight': 1, 'width': 1}), (1, 3, {'weight': 2, 'width': 1}), (3, 4, {'weight': 2, 'width': 1}), (3, 5, {'weight': 1, 'width': 1}), (3, 6, {'weight': 1, 'width': 1}), (4, 6, {'weight': 1, 'width': 1}), (5, 7, {'weight': 1, 'width': 1}), (5, 8, {'weight': 1, 'width': 1}), (5, 9, {'weight': 1, 'width': 1})]\n"
     ]
    }
   ],
   "source": [
    "# recreate network\n",
    "nt = Network()\n",
    "# populates the nodes and edges data structures\n",
    "nt.from_nx(network)\n",
    "print(network.edges.data())\n",
    "nt.show('docs/models/modularity.html')"
   ]
  }
 ],
 "metadata": {
  "interpreter": {
   "hash": "aee8b7b246df8f9039afb4144a1f6fd8d2ca17a180786b69acc140d282b71a49"
  },
  "kernelspec": {
   "display_name": "Python 3.9.2 64-bit",
   "language": "python",
   "name": "python3"
  },
  "language_info": {
   "codemirror_mode": {
    "name": "ipython",
    "version": 3
   },
   "file_extension": ".py",
   "mimetype": "text/x-python",
   "name": "python",
   "nbconvert_exporter": "python",
   "pygments_lexer": "ipython3",
   "version": "3.9.2"
  },
  "orig_nbformat": 4
 },
 "nbformat": 4,
 "nbformat_minor": 2
}
