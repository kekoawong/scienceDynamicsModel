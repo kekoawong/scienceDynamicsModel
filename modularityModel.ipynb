{
 "cells": [
  {
   "cell_type": "markdown",
   "metadata": {},
   "source": [
    "Import Libraries"
   ]
  },
  {
   "cell_type": "code",
   "execution_count": 207,
   "metadata": {},
   "outputs": [],
   "source": [
    "from pyvis.network import Network\n",
    "import networkx as nx\n",
    "import random\n",
    "from igraph import Graph"
   ]
  },
  {
   "cell_type": "markdown",
   "metadata": {},
   "source": [
    "## Create Helper Functions"
   ]
  },
  {
   "cell_type": "markdown",
   "metadata": {},
   "source": [
    "### Create paper function"
   ]
  },
  {
   "cell_type": "code",
   "execution_count": 208,
   "metadata": {},
   "outputs": [],
   "source": [
    "# recursive function that will traverse the nodes\n",
    "def createPaper(network, authors, probStop):\n",
    "    '''\n",
    "    Will take network, list of authors, and probStop as input\n",
    "    '''\n",
    "    currAuthorID = authors[-1]\n",
    "    newNeighbors = set(network.neighbors(currAuthorID)).difference(set(authors))\n",
    "\n",
    "    # base condition: stop at node if probStop hit or there are no new neighbors to traverse\n",
    "    if random.random() < probStop or len(newNeighbors) == 0:\n",
    "        return\n",
    "    \n",
    "    # create list reprsenting probabilities for the neighboring nodes of the current coauthor\n",
    "    probs = []\n",
    "    for neighbor in newNeighbors:\n",
    "        nData = network.get_edge_data(currAuthorID, neighbor)\n",
    "        probs.extend([neighbor] * nData[\"weight\"])\n",
    "\n",
    "    # Select coauthor from neighbors probabilities list\n",
    "    coauthorID = random.choice(probs)\n",
    "\n",
    "    # update all edges of coauthors to this new author\n",
    "    for author in authors:\n",
    "        # if there is not an edge, create one\n",
    "        if not network.has_edge(author, coauthorID) and author != coauthorID:\n",
    "            network.add_edge(author, coauthorID, weight=0, width=1)\n",
    "        newWeight = network.get_edge_data(author, coauthorID)[\"weight\"] + 1\n",
    "        #network.update(edges=[ (author, coauthorID, {\"weight\": newWeight, \"width\": newWeight//2}) ])\n",
    "        network.update(edges=[ (author, coauthorID, {\"weight\": newWeight}) ])\n",
    "\n",
    "    # call function recursively with coauthor\n",
    "    authors.append(coauthorID)\n",
    "    createPaper(network, authors, probStop)\n"
   ]
  },
  {
   "cell_type": "markdown",
   "metadata": {},
   "source": [
    "### Get New Community and Color\n",
    "Function will return a new community value and color for new communities to use"
   ]
  },
  {
   "cell_type": "code",
   "execution_count": 209,
   "metadata": {},
   "outputs": [],
   "source": [
    "def getNewCC(network):\n",
    "    colors = {\"red\", \"blue\", \"green\", \"orange\", \"purple\", \"yellow\"}\n",
    "    print(max(dict(network.nodes.data('label')).values()))\n",
    "    newComm = max(dict(network.nodes.data('label')).values()) + 1\n",
    "    return newComm, \"red\"\n",
    "\n",
    "def getCommNodes(network, communityNum):\n",
    "    '''Returns a list of nodes associated with the community'''\n",
    "    nodes = []\n",
    "    for nodeID, comm in network.nodes.data('label'):\n",
    "        if comm == communityNum:\n",
    "            nodes.append(nodeID)\n",
    "    return nodes\n",
    "    "
   ]
  },
  {
   "cell_type": "markdown",
   "metadata": {},
   "source": [
    "### Split community function"
   ]
  },
  {
   "cell_type": "code",
   "execution_count": 210,
   "metadata": {},
   "outputs": [],
   "source": [
    "def splitCommunity(network, nodes):\n",
    "    '''\n",
    "    Function will take the networkx network as input and the list of nodes in the community\n",
    "        It will then test if it should split the community or not\n",
    "    Returns nothing, will update the network\n",
    "    '''\n",
    "    # split into two communities\n",
    "    subGraph = network.subgraph(nodes)\n",
    "    newGraph = Graph.from_networkx(subGraph)\n",
    "\n",
    "    # create subgraph and split\n",
    "    clusters = newGraph.community_leading_eigenvector(clusters=2)\n",
    "\n",
    "    # recreate network\n",
    "    nt = Network()\n",
    "    # populates the nodes and edges data structures\n",
    "    nt.from_nx(subGraph)\n",
    "    nt.show('docs/models/testsub.html')\n",
    "\n",
    "    # compare unweighted modularity of new communities to the initial, return if there should not be change in community structure\n",
    "    # Q: modularity of just the partition or the whole graph with the new partition?\n",
    "    if newGraph.modularity(set(subGraph.nodes())) > clusters.modularity or len(clusters) != 2:\n",
    "        return\n",
    "\n",
    "    # update the colors and group name of the nodes in the smaller sub-community\n",
    "    # must know all the groups and community names and pick different ones\n",
    "    newComm, color = getNewCC(network)\n",
    "    index = 1 if len(clusters[1]) < len(clusters[0]) else 0\n",
    "    for node in clusters[index]:\n",
    "        network.update(nodes=[(node, {\"label\": newComm, \"color\": color})])\n",
    "    # update the papers? Need a data structure of the papers\n",
    "    "
   ]
  },
  {
   "cell_type": "markdown",
   "metadata": {},
   "source": [
    "Define initial parameters"
   ]
  },
  {
   "cell_type": "code",
   "execution_count": 211,
   "metadata": {},
   "outputs": [],
   "source": [
    "# define time steps\n",
    "timeSteps = 30\n",
    "\n",
    "# Probabilities\n",
    "# probability that you generate new author\n",
    "probNewAuthor = 0.5\n",
    "# probability that you stop at a given node\n",
    "probStop = 0.7\n",
    "# probability that a split event occurs\n",
    "pd = 0.9\n",
    "\n",
    "# define initial scholars, will be in form (id, scholarField, color)\n",
    "scholarField = 0\n",
    "nodeID = 0\n"
   ]
  },
  {
   "cell_type": "markdown",
   "metadata": {},
   "source": [
    "Create Model"
   ]
  },
  {
   "cell_type": "code",
   "execution_count": 212,
   "metadata": {},
   "outputs": [
    {
     "name": "stdout",
     "output_type": "stream",
     "text": [
      "0\n",
      "1\n",
      "2\n",
      "3\n",
      "4\n",
      "5\n",
      "6\n",
      "7\n",
      "8\n",
      "9\n",
      "10\n",
      "11\n",
      "12\n",
      "13\n",
      "14\n",
      "15\n",
      "16\n"
     ]
    }
   ],
   "source": [
    "network = nx.Graph()\n",
    "network.add_node(nodeID, label=scholarField, color=\"red\")\n",
    "# go through time steps, add new scholar and paper at each step\n",
    "for i in range(1, timeSteps):\n",
    "\n",
    "    # Choose first author, either new scholar or random choice\n",
    "    currNodes = list(network.nodes())\n",
    "    authors = [random.choice(currNodes)]\n",
    "\n",
    "    # with probability, add new author to network set as main author with a coauthor\n",
    "    if random.random() < probNewAuthor:\n",
    "        # generate author and field\n",
    "        nodeID += 1\n",
    "        author = nodeID\n",
    "\n",
    "        # generate random coauthor from currNodes,\n",
    "        coauthorID = random.choice(currNodes)\n",
    "\n",
    "        # add node with field being the co-author's field\n",
    "        scholarField = network.nodes[coauthorID][\"label\"]\n",
    "        network.add_node(author, label=scholarField, color=\"red\")\n",
    "        network.add_edge(author, coauthorID, weight=1, width=1)\n",
    "\n",
    "        # update authors list\n",
    "        authors = [author, coauthorID]\n",
    "\n",
    "    # Add new paper, calling function\n",
    "    createPaper(network, authors, probStop)\n",
    "\n",
    "    # split random discipline with prob pd\n",
    "    if random.random() < pd:\n",
    "        commNodes = getCommNodes(network, 0)\n",
    "        splitCommunity(network, commNodes)"
   ]
  },
  {
   "cell_type": "markdown",
   "metadata": {},
   "source": [
    "Display Network"
   ]
  },
  {
   "cell_type": "code",
   "execution_count": 213,
   "metadata": {},
   "outputs": [
    {
     "name": "stdout",
     "output_type": "stream",
     "text": [
      "[(0, 1, {'weight': 2, 'width': 1}), (0, 2, {'weight': 2, 'width': 1}), (0, 3, {'weight': 2, 'width': 1}), (0, 8, {'weight': 1, 'width': 1}), (0, 7, {'weight': 2, 'width': 1}), (0, 11, {'weight': 2, 'width': 1}), (1, 6, {'weight': 1, 'width': 1}), (2, 4, {'weight': 1, 'width': 1}), (2, 7, {'weight': 2, 'width': 1}), (2, 8, {'weight': 1, 'width': 1}), (4, 5, {'weight': 1, 'width': 1}), (4, 9, {'weight': 4, 'width': 1}), (4, 13, {'weight': 1, 'width': 1}), (6, 10, {'weight': 2, 'width': 1}), (7, 8, {'weight': 3, 'width': 1}), (7, 11, {'weight': 2, 'width': 1}), (7, 12, {'weight': 1, 'width': 1}), (8, 12, {'weight': 1, 'width': 1}), (8, 11, {'weight': 1, 'width': 1}), (9, 13, {'weight': 1, 'width': 1}), (11, 12, {'weight': 1, 'width': 1})]\n"
     ]
    }
   ],
   "source": [
    "nt = Network()\n",
    "# populates the nodes and edges data structures\n",
    "nt.from_nx(network)\n",
    "print(network.edges.data())\n",
    "nt.show('docs/models/modularity.html')"
   ]
  },
  {
   "cell_type": "markdown",
   "metadata": {},
   "source": [
    "### Calculate modularity using iGraph"
   ]
  },
  {
   "cell_type": "code",
   "execution_count": 214,
   "metadata": {},
   "outputs": [],
   "source": [
    "# newGraph = Graph.from_networkx(network)\n",
    "# clusters = newGraph.community_leading_eigenvector(clusters=2)\n",
    "# # check if modularity of clusters is greater than whole\n",
    "# print(clusters)\n",
    "\n",
    "# # loop and update cluster colors\n",
    "# for node in clusters[0]:\n",
    "#     network.update(nodes=[(node, {\"label\": \"g1\", \"color\": 1})])\n",
    "# for node in clusters[1]:\n",
    "#     network.update(nodes=[(node, {\"label\": \"g2\", \"color\": 100})])\n",
    "# print(set(network.nodes()))\n",
    "# print(f'test mod1: {newGraph.modularity(set(network.nodes()))}')\n",
    "# print(f'test mod2: {clusters.modularity}')\n",
    "# splitCommunity(network, [0, 1, 3, 4, 5, 9, 10, 12])"
   ]
  },
  {
   "cell_type": "code",
   "execution_count": 215,
   "metadata": {},
   "outputs": [
    {
     "name": "stdout",
     "output_type": "stream",
     "text": [
      "[(0, 1, {'weight': 2, 'width': 1}), (0, 2, {'weight': 2, 'width': 1}), (0, 3, {'weight': 2, 'width': 1}), (0, 8, {'weight': 1, 'width': 1}), (0, 7, {'weight': 2, 'width': 1}), (0, 11, {'weight': 2, 'width': 1}), (1, 6, {'weight': 1, 'width': 1}), (2, 4, {'weight': 1, 'width': 1}), (2, 7, {'weight': 2, 'width': 1}), (2, 8, {'weight': 1, 'width': 1}), (4, 5, {'weight': 1, 'width': 1}), (4, 9, {'weight': 4, 'width': 1}), (4, 13, {'weight': 1, 'width': 1}), (6, 10, {'weight': 2, 'width': 1}), (7, 8, {'weight': 3, 'width': 1}), (7, 11, {'weight': 2, 'width': 1}), (7, 12, {'weight': 1, 'width': 1}), (8, 12, {'weight': 1, 'width': 1}), (8, 11, {'weight': 1, 'width': 1}), (9, 13, {'weight': 1, 'width': 1}), (11, 12, {'weight': 1, 'width': 1})]\n"
     ]
    }
   ],
   "source": [
    "# recreate network\n",
    "nt = Network()\n",
    "# populates the nodes and edges data structures\n",
    "nt.from_nx(network)\n",
    "print(network.edges.data())\n",
    "nt.show('docs/models/modularity.html')"
   ]
  }
 ],
 "metadata": {
  "interpreter": {
   "hash": "aee8b7b246df8f9039afb4144a1f6fd8d2ca17a180786b69acc140d282b71a49"
  },
  "kernelspec": {
   "display_name": "Python 3.9.2 64-bit",
   "language": "python",
   "name": "python3"
  },
  "language_info": {
   "codemirror_mode": {
    "name": "ipython",
    "version": 3
   },
   "file_extension": ".py",
   "mimetype": "text/x-python",
   "name": "python",
   "nbconvert_exporter": "python",
   "pygments_lexer": "ipython3",
   "version": "3.9.2"
  },
  "orig_nbformat": 4
 },
 "nbformat": 4,
 "nbformat_minor": 2
}
