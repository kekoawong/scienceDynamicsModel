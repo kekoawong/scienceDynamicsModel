{
 "cells": [
  {
   "cell_type": "markdown",
   "metadata": {},
   "source": [
    "Import Libraries"
   ]
  },
  {
   "cell_type": "code",
   "execution_count": 5,
   "metadata": {},
   "outputs": [],
   "source": [
    "from pyvis.network import Network\n",
    "import matplotlib.pyplot as plt\n",
    "import networkx as nx\n",
    "import random\n",
    "from helpers import createPaper, getCommNodes, splitCommunity, genGraphFeatures"
   ]
  },
  {
   "cell_type": "markdown",
   "metadata": {},
   "source": [
    "Define initial parameters"
   ]
  },
  {
   "cell_type": "code",
   "execution_count": 6,
   "metadata": {},
   "outputs": [],
   "source": [
    "# define time steps\n",
    "timeSteps = 30\n",
    "\n",
    "# Probabilities\n",
    "# probability that you generate new author\n",
    "probNewAuthor = 0.5\n",
    "# probability that you stop at a given node\n",
    "probStop = 0.7\n",
    "# probability that a split event occurs\n",
    "pd = 0.5\n",
    "\n",
    "# define initial scholars, will be in form (id, scholarField, color)\n",
    "scholarField = 0\n",
    "nodeID = 0\n"
   ]
  },
  {
   "cell_type": "markdown",
   "metadata": {},
   "source": [
    "Create Model"
   ]
  },
  {
   "cell_type": "code",
   "execution_count": 7,
   "metadata": {},
   "outputs": [
    {
     "name": "stdout",
     "output_type": "stream",
     "text": [
      "0\n",
      "1\n",
      "2\n",
      "3\n",
      "4\n"
     ]
    }
   ],
   "source": [
    "network = nx.Graph()\n",
    "network.add_node(nodeID, label=scholarField, color=\"red\")\n",
    "# go through time steps, add new scholar and paper at each step\n",
    "for i in range(1, timeSteps):\n",
    "\n",
    "    # Choose first author, either new scholar or random choice\n",
    "    currNodes = list(network.nodes())\n",
    "    authors = [random.choice(currNodes)]\n",
    "\n",
    "    # with probability, add new author to network set as main author with a coauthor\n",
    "    if random.random() < probNewAuthor:\n",
    "        # generate author and field\n",
    "        nodeID += 1\n",
    "        author = nodeID\n",
    "\n",
    "        # generate random coauthor from currNodes,\n",
    "        coauthorID = random.choice(currNodes)\n",
    "\n",
    "        # add node with field being the co-author's field\n",
    "        scholarField = network.nodes[coauthorID][\"label\"]\n",
    "        network.add_node(author, label=scholarField, color=\"red\")\n",
    "        network.add_edge(author, coauthorID, weight=1, width=1)\n",
    "\n",
    "        # update authors list\n",
    "        authors = [author, coauthorID]\n",
    "\n",
    "    # Add new paper, calling function\n",
    "    createPaper(network, authors, probStop)\n",
    "\n",
    "    # split random discipline with prob pd\n",
    "    if random.random() < pd:\n",
    "        commNodes = getCommNodes(network, 0)\n",
    "        splitCommunity(network, commNodes)"
   ]
  },
  {
   "cell_type": "markdown",
   "metadata": {},
   "source": [
    "Display Network"
   ]
  },
  {
   "cell_type": "code",
   "execution_count": 8,
   "metadata": {},
   "outputs": [
    {
     "data": {
      "image/png": "[encoded data removed]",
      "text/plain": [
       "<Figure size 432x288 with 1 Axes>"
      ]
     },
     "metadata": {},
     "output_type": "display_data"
    }
   ],
   "source": [
    "pos = nx.spring_layout(network, seed=3068)  # Seed layout for reproducibility\n",
    "nodeLabels, nodeColors = genGraphFeatures(network)\n",
    "nx.draw(network, pos=pos, with_labels=True, labels=nodeLabels, node_color=nodeColors)\n",
    "plt.show()"
   ]
  },
  {
   "cell_type": "code",
   "execution_count": 9,
   "metadata": {},
   "outputs": [
    {
     "name": "stdout",
     "output_type": "stream",
     "text": [
      "[(0, {'label': 0, 'color': 'red', 'size': 10}), (1, {'label': 0, 'color': 'red', 'size': 10}), (2, {'label': 5, 'color': 'red', 'size': 10}), (3, {'label': 4, 'color': 'blue', 'size': 10}), (4, {'label': 5, 'color': 'red', 'size': 10}), (5, {'label': 1, 'color': 'orange', 'size': 10}), (6, {'label': 2, 'color': 'purple', 'size': 10}), (7, {'label': 1, 'color': 'orange', 'size': 10}), (8, {'label': 0, 'color': 'red', 'size': 10}), (9, {'label': 2, 'color': 'red', 'size': 10}), (10, {'label': 2, 'color': 'red', 'size': 10}), (11, {'label': 0, 'color': 'red', 'size': 10}), (12, {'label': 0, 'color': 'red', 'size': 10})]\n",
      "([{'color': 'red', 'size': 10, 'id': 0, 'label': 0, 'shape': 'dot'}, {'color': 'red', 'size': 10, 'id': 1, 'label': 1, 'shape': 'dot'}, {'color': 'red', 'size': 10, 'id': 2, 'label': 5, 'shape': 'dot'}, {'color': 'blue', 'size': 10, 'id': 3, 'label': 4, 'shape': 'dot'}, {'color': 'orange', 'size': 10, 'id': 5, 'label': 1, 'shape': 'dot'}, {'color': 'purple', 'size': 10, 'id': 6, 'label': 2, 'shape': 'dot'}, {'color': 'red', 'size': 10, 'id': 11, 'label': 11, 'shape': 'dot'}, {'color': 'red', 'size': 10, 'id': 4, 'label': 5, 'shape': 'dot'}, {'color': 'red', 'size': 10, 'id': 8, 'label': 8, 'shape': 'dot'}, {'color': 'red', 'size': 10, 'id': 9, 'label': 2, 'shape': 'dot'}, {'color': 'red', 'size': 10, 'id': 10, 'label': 2, 'shape': 'dot'}, {'color': 'red', 'size': 10, 'id': 12, 'label': 12, 'shape': 'dot'}, {'color': 'orange', 'size': 10, 'id': 7, 'label': 1, 'shape': 'dot'}], [{'weight': 7, 'width': 1, 'from': 0, 'to': 1}, {'weight': 2, 'width': 1, 'from': 0, 'to': 2}, {'weight': 2, 'width': 1, 'from': 0, 'to': 3}, {'weight': 1, 'width': 1, 'from': 0, 'to': 5}, {'weight': 1, 'width': 1, 'from': 0, 'to': 6}, {'weight': 1, 'width': 1, 'from': 1, 'to': 2}, {'weight': 2, 'width': 1, 'from': 1, 'to': 3}, {'weight': 1, 'width': 1, 'from': 1, 'to': 5}, {'weight': 1, 'width': 1, 'from': 1, 'to': 6}, {'weight': 1, 'width': 1, 'from': 1, 'to': 11}, {'weight': 3, 'width': 1, 'from': 2, 'to': 4}, {'weight': 3, 'width': 1, 'from': 2, 'to': 8}, {'weight': 1, 'width': 1, 'from': 2, 'to': 9}, {'weight': 1, 'width': 1, 'from': 2, 'to': 10}, {'weight': 1, 'width': 1, 'from': 2, 'to': 12}, {'weight': 1, 'width': 1, 'from': 4, 'to': 9}, {'weight': 1, 'width': 1, 'from': 4, 'to': 10}, {'weight': 1, 'width': 1, 'from': 5, 'to': 7}, {'weight': 1, 'width': 1, 'from': 8, 'to': 12}], '', '500px', '500px', '{\\n    \"configure\": {\\n        \"enabled\": false\\n    },\\n    \"edges\": {\\n        \"color\": {\\n            \"inherit\": true\\n        },\\n        \"smooth\": {\\n            \"enabled\": false,\\n            \"type\": \"continuous\"\\n        }\\n    },\\n    \"interaction\": {\\n        \"dragNodes\": true,\\n        \"hideEdgesOnDrag\": false,\\n        \"hideNodesOnDrag\": false\\n    },\\n    \"physics\": {\\n        \"enabled\": true,\\n        \"stabilization\": {\\n            \"enabled\": true,\\n            \"fit\": true,\\n            \"iterations\": 1000,\\n            \"onlyDynamicEdges\": false,\\n            \"updateInterval\": 50\\n        }\\n    }\\n}')\n"
     ]
    }
   ],
   "source": [
    "nt = Network()\n",
    "# populates the nodes and edges data structures\n",
    "nt.from_nx(network)\n",
    "print(network.nodes.data())\n",
    "print(nt.get_network_data())\n",
    "nt.show('docs/models/modularity.html')"
   ]
  }
 ],
 "metadata": {
  "interpreter": {
   "hash": "aee8b7b246df8f9039afb4144a1f6fd8d2ca17a180786b69acc140d282b71a49"
  },
  "kernelspec": {
   "display_name": "Python 3.9.2 64-bit",
   "language": "python",
   "name": "python3"
  },
  "language_info": {
   "codemirror_mode": {
    "name": "ipython",
    "version": 3
   },
   "file_extension": ".py",
   "mimetype": "text/x-python",
   "name": "python",
   "nbconvert_exporter": "python",
   "pygments_lexer": "ipython3",
   "version": "3.9.2"
  },
  "orig_nbformat": 4
 },
 "nbformat": 4,
 "nbformat_minor": 2
}
