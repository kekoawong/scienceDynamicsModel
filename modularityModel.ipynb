{
 "cells": [
  {
   "cell_type": "markdown",
   "metadata": {},
   "source": [
    "Import Libraries"
   ]
  },
  {
   "cell_type": "code",
   "execution_count": 52,
   "metadata": {},
   "outputs": [],
   "source": [
    "from pyvis.network import Network\n",
    "import networkx as nx\n",
    "import random\n",
    "from networkx.algorithms.community import greedy_modularity_communities\n",
    "from networkx.linalg.modularitymatrix import modularity_matrix, directed_modularity_matrix\n",
    "import numpy as np\n",
    "from scipy.linalg import eig"
   ]
  },
  {
   "cell_type": "markdown",
   "metadata": {},
   "source": [
    "Create Helper Functions"
   ]
  },
  {
   "cell_type": "code",
   "execution_count": 53,
   "metadata": {},
   "outputs": [],
   "source": [
    "# recursive function that will traverse the nodes\n",
    "def createPaper(network, authors, probStop):\n",
    "    '''\n",
    "    Will take network, list of authors, and probStop as input\n",
    "    '''\n",
    "    currAuthorID = authors[-1]\n",
    "    newNeighbors = set(network.neighbors(currAuthorID)).difference(set(authors))\n",
    "\n",
    "    # base condition: stop at node if probStop hit or there are no new neighbors to traverse\n",
    "    if random.random() < probStop or len(newNeighbors) == 0:\n",
    "        return\n",
    "    \n",
    "    # create list reprsenting probabilities for the neighboring nodes of the current coauthor\n",
    "    probs = []\n",
    "    for neighbor in newNeighbors:\n",
    "        nData = network.get_edge_data(currAuthorID, neighbor)\n",
    "        probs.extend([neighbor] * nData[\"weight\"])\n",
    "\n",
    "    # Select coauthor from neighbors probabilities list\n",
    "    coauthorID = random.choice(probs)\n",
    "\n",
    "    # update all edges of coauthors to this new author\n",
    "    for author in authors:\n",
    "        # if there is not an edge, create one\n",
    "        if not network.has_edge(author, coauthorID) and author != coauthorID:\n",
    "            network.add_edge(author, coauthorID, weight=0, width=1)\n",
    "        newWeight = network.get_edge_data(author, coauthorID)[\"weight\"] + 1\n",
    "        #network.update(edges=[ (author, coauthorID, {\"weight\": newWeight, \"width\": newWeight//2}) ])\n",
    "        network.update(edges=[ (author, coauthorID, {\"weight\": newWeight}) ])\n",
    "\n",
    "    # call function recursively with coauthor\n",
    "    authors.append(coauthorID)\n",
    "    createPaper(network, authors, probStop)\n"
   ]
  },
  {
   "cell_type": "markdown",
   "metadata": {},
   "source": [
    "Define initial parameters"
   ]
  },
  {
   "cell_type": "code",
   "execution_count": 54,
   "metadata": {},
   "outputs": [],
   "source": [
    "# define time steps\n",
    "timeSteps = 15\n",
    "\n",
    "# Probabilities\n",
    "# probability that you generate new author\n",
    "probNewAuthor = 0.5\n",
    "# probability that you stop at a given node\n",
    "probStop = 0.7\n",
    "\n",
    "# define fields\n",
    "fieldColors = {\"CS\": \"blue\", \n",
    "                \"Math\": \"green\", \n",
    "                \"Physics\": \"red\"}\n",
    "fields = list(fieldColors.keys())\n",
    "\n",
    "# define initial scholars, will be in form (id, scholarField, color)\n",
    "scholarField = random.choice(fields)\n",
    "nodeID = 0\n"
   ]
  },
  {
   "cell_type": "markdown",
   "metadata": {},
   "source": [
    "Create Model"
   ]
  },
  {
   "cell_type": "code",
   "execution_count": 55,
   "metadata": {},
   "outputs": [],
   "source": [
    "network = nx.Graph()\n",
    "scholarField = random.choice(fields)\n",
    "network.add_node(nodeID, label=scholarField, color=fieldColors[scholarField])\n",
    "# go through time steps, add new scholar and paper at each step\n",
    "for i in range(1, timeSteps):\n",
    "\n",
    "    # Choose first author, either new scholar or random choice\n",
    "    currNodes = list(network.nodes())\n",
    "    authors = [random.choice(currNodes)]\n",
    "\n",
    "    # with probability, add new author to network set as main author with a coauthor\n",
    "    if random.random() < probNewAuthor:\n",
    "        # generate author and field\n",
    "        scholarField = random.choice(fields)\n",
    "        nodeID += 1\n",
    "        author = nodeID\n",
    "        network.add_node(author, label=scholarField, color=fieldColors[scholarField])\n",
    "\n",
    "        # generate random coauthor from currNodes, which doesn't have the new node added in\n",
    "        coauthorID = random.choice(currNodes)\n",
    "        network.add_edge(author, coauthorID, weight=1, width=1)\n",
    "\n",
    "        # update authors list\n",
    "        authors = [author, coauthorID]\n",
    "\n",
    "    # Add new paper, calling function\n",
    "    createPaper(network, authors, probStop)"
   ]
  },
  {
   "cell_type": "markdown",
   "metadata": {},
   "source": [
    "Display Network"
   ]
  },
  {
   "cell_type": "code",
   "execution_count": 56,
   "metadata": {},
   "outputs": [
    {
     "name": "stdout",
     "output_type": "stream",
     "text": [
      "[(0, 1, {'weight': 2, 'width': 1}), (0, 2, {'weight': 1, 'width': 1}), (0, 3, {'weight': 1, 'width': 1}), (0, 4, {'weight': 1, 'width': 1}), (1, 2, {'weight': 3, 'width': 1}), (1, 5, {'weight': 1, 'width': 1}), (2, 5, {'weight': 1, 'width': 1}), (3, 6, {'weight': 2, 'width': 1}), (5, 8, {'weight': 1, 'width': 1}), (6, 7, {'weight': 2, 'width': 1}), (6, 9, {'weight': 1, 'width': 1}), (7, 9, {'weight': 1, 'width': 1})]\n"
     ]
    }
   ],
   "source": [
    "nt = Network()\n",
    "# populates the nodes and edges data structures\n",
    "nt.from_nx(network)\n",
    "print(network.edges.data())\n",
    "nt.show('docs/models/modularity.html')"
   ]
  },
  {
   "cell_type": "markdown",
   "metadata": {},
   "source": [
    "### Show modularity communities"
   ]
  },
  {
   "cell_type": "code",
   "execution_count": 57,
   "metadata": {},
   "outputs": [
    {
     "name": "stdout",
     "output_type": "stream",
     "text": [
      "[frozenset({8, 1, 2, 5}), frozenset({0, 3, 4}), frozenset({9, 6, 7})]\n",
      "[[-0.66666667  0.5         0.5         0.66666667  0.83333333 -0.5\n",
      "  -0.5        -0.33333333 -0.16666667 -0.33333333]\n",
      " [ 0.5        -0.375       0.625      -0.25       -0.125       0.625\n",
      "  -0.375      -0.25       -0.125      -0.25      ]\n",
      " [ 0.5         0.625      -0.375      -0.25       -0.125       0.625\n",
      "  -0.375      -0.25       -0.125      -0.25      ]\n",
      " [ 0.66666667 -0.25       -0.25       -0.16666667 -0.08333333 -0.25\n",
      "   0.75       -0.16666667 -0.08333333 -0.16666667]\n",
      " [ 0.83333333 -0.125      -0.125      -0.08333333 -0.04166667 -0.125\n",
      "  -0.125      -0.08333333 -0.04166667 -0.08333333]\n",
      " [-0.5         0.625       0.625      -0.25       -0.125      -0.375\n",
      "  -0.375      -0.25        0.875      -0.25      ]\n",
      " [-0.5        -0.375      -0.375       0.75       -0.125      -0.375\n",
      "  -0.375       0.75       -0.125       0.75      ]\n",
      " [-0.33333333 -0.25       -0.25       -0.16666667 -0.08333333 -0.25\n",
      "   0.75       -0.16666667 -0.08333333  0.83333333]\n",
      " [-0.16666667 -0.125      -0.125      -0.08333333 -0.04166667  0.875\n",
      "  -0.125      -0.08333333 -0.04166667 -0.08333333]\n",
      " [-0.33333333 -0.25       -0.25       -0.16666667 -0.08333333 -0.25\n",
      "   0.75        0.83333333 -0.08333333 -0.16666667]]\n"
     ]
    }
   ],
   "source": [
    "communities = greedy_modularity_communities(network)\n",
    "print(communities)\n",
    "# look at exactly whay the matrix is calculating, make sure it is the unweighted\n",
    "matrix = modularity_matrix(network)\n",
    "print(matrix)"
   ]
  },
  {
   "cell_type": "code",
   "execution_count": 58,
   "metadata": {},
   "outputs": [
    {
     "name": "stdout",
     "output_type": "stream",
     "text": [
      "[ 2.27834730e+00 -2.21902096e+00  1.20979677e+00  3.17915745e-01\n",
      " -2.66701504e-16  1.44621939e-01 -1.48166080e+00 -1.00000000e+00\n",
      " -1.00000000e+00 -1.00000000e+00]\n"
     ]
    }
   ],
   "source": [
    "# get eigenvalues and vectors of matrix, maybe use scipy instead\n",
    "eVals, eVects = np.linalg.eig(matrix)\n",
    "# find indices of largest eigenvalue, get corresponding eigenvector\n",
    "# if no positive eigenvalue, then cannot divide network further because it will not improve modularity\n",
    "if max(eVals) > 0:\n",
    "    index = np.argmax(eVals)\n",
    "    maxEvect = np.array(eVects)[index]\n",
    "    # split eigenvector into positive and negative values, collecting vertices\n",
    "    g1 = []\n",
    "    g2 = []\n",
    "    for j, val in enumerate(maxEvect):\n",
    "        if val < 0:\n",
    "            g1.append(j)\n",
    "            # test update the color\n",
    "            network.update(nodes=[(j, {\"label\": \"g1\", \"color\": \"green\"})])\n",
    "        else:\n",
    "            g2.append(j)\n",
    "            network.update(nodes=[(j, {\"label\": \"g2\", \"color\": \"red\"})])\n",
    "# print(g1)\n",
    "# print(g2)\n",
    "print(eVals)\n"
   ]
  },
  {
   "cell_type": "code",
   "execution_count": 59,
   "metadata": {},
   "outputs": [
    {
     "name": "stdout",
     "output_type": "stream",
     "text": [
      "[(0, 1, {'weight': 2, 'width': 1}), (0, 2, {'weight': 1, 'width': 1}), (0, 3, {'weight': 1, 'width': 1}), (0, 4, {'weight': 1, 'width': 1}), (1, 2, {'weight': 3, 'width': 1}), (1, 5, {'weight': 1, 'width': 1}), (2, 5, {'weight': 1, 'width': 1}), (3, 6, {'weight': 2, 'width': 1}), (5, 8, {'weight': 1, 'width': 1}), (6, 7, {'weight': 2, 'width': 1}), (6, 9, {'weight': 1, 'width': 1}), (7, 9, {'weight': 1, 'width': 1})]\n"
     ]
    }
   ],
   "source": [
    "# recreate network\n",
    "nt = Network()\n",
    "# populates the nodes and edges data structures\n",
    "nt.from_nx(network)\n",
    "print(network.edges.data())\n",
    "nt.show('docs/models/modularity.html')"
   ]
  }
 ],
 "metadata": {
  "interpreter": {
   "hash": "aee8b7b246df8f9039afb4144a1f6fd8d2ca17a180786b69acc140d282b71a49"
  },
  "kernelspec": {
   "display_name": "Python 3.9.2 64-bit",
   "language": "python",
   "name": "python3"
  },
  "language_info": {
   "codemirror_mode": {
    "name": "ipython",
    "version": 3
   },
   "file_extension": ".py",
   "mimetype": "text/x-python",
   "name": "python",
   "nbconvert_exporter": "python",
   "pygments_lexer": "ipython3",
   "version": "3.9.2"
  },
  "orig_nbformat": 4
 },
 "nbformat": 4,
 "nbformat_minor": 2
}
