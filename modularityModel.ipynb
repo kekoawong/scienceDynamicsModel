{
 "cells": [
  {
   "cell_type": "markdown",
   "metadata": {},
   "source": [
    "Import Libraries"
   ]
  },
  {
   "cell_type": "code",
   "execution_count": 78,
   "metadata": {},
   "outputs": [],
   "source": [
    "from pyvis.network import Network\n",
    "import networkx as nx\n",
    "import random\n",
    "from igraph import Graph"
   ]
  },
  {
   "cell_type": "markdown",
   "metadata": {},
   "source": [
    "## Create Helper Functions"
   ]
  },
  {
   "cell_type": "markdown",
   "metadata": {},
   "source": [
    "### Create paper function"
   ]
  },
  {
   "cell_type": "code",
   "execution_count": 79,
   "metadata": {},
   "outputs": [],
   "source": [
    "# recursive function that will traverse the nodes\n",
    "def createPaper(network, authors, probStop):\n",
    "    '''\n",
    "    Will take network, list of authors, and probStop as input\n",
    "    '''\n",
    "    currAuthorID = authors[-1]\n",
    "    newNeighbors = set(network.neighbors(currAuthorID)).difference(set(authors))\n",
    "\n",
    "    # base condition: stop at node if probStop hit or there are no new neighbors to traverse\n",
    "    if random.random() < probStop or len(newNeighbors) == 0:\n",
    "        return\n",
    "    \n",
    "    # create list reprsenting probabilities for the neighboring nodes of the current coauthor\n",
    "    probs = []\n",
    "    for neighbor in newNeighbors:\n",
    "        nData = network.get_edge_data(currAuthorID, neighbor)\n",
    "        probs.extend([neighbor] * nData[\"weight\"])\n",
    "\n",
    "    # Select coauthor from neighbors probabilities list\n",
    "    coauthorID = random.choice(probs)\n",
    "\n",
    "    # update all edges of coauthors to this new author\n",
    "    for author in authors:\n",
    "        # if there is not an edge, create one\n",
    "        if not network.has_edge(author, coauthorID) and author != coauthorID:\n",
    "            network.add_edge(author, coauthorID, weight=0, width=1)\n",
    "        newWeight = network.get_edge_data(author, coauthorID)[\"weight\"] + 1\n",
    "        #network.update(edges=[ (author, coauthorID, {\"weight\": newWeight, \"width\": newWeight//2}) ])\n",
    "        network.update(edges=[ (author, coauthorID, {\"weight\": newWeight}) ])\n",
    "\n",
    "    # call function recursively with coauthor\n",
    "    authors.append(coauthorID)\n",
    "    createPaper(network, authors, probStop)\n"
   ]
  },
  {
   "cell_type": "markdown",
   "metadata": {},
   "source": [
    "### Split community function"
   ]
  },
  {
   "cell_type": "code",
   "execution_count": 80,
   "metadata": {},
   "outputs": [],
   "source": [
    "def splitCommunity(network, nodes):\n",
    "    '''\n",
    "    Function will take the networkx network as input and the list of nodes in the community\n",
    "        It will then test if it should split the community or not\n",
    "    Returns nothing, will update the network\n",
    "    '''\n",
    "    # split into two communities\n",
    "    subGraph = network.subgraph(nodes)\n",
    "    newGraph = Graph.from_networkx(subGraph)\n",
    "\n",
    "    # create subgraph and split\n",
    "    clusters = newGraph.community_leading_eigenvector(clusters=2)\n",
    "\n",
    "    # recreate network\n",
    "    nt = Network()\n",
    "    # populates the nodes and edges data structures\n",
    "    nt.from_nx(subGraph)\n",
    "    nt.show('docs/models/testsub.html')\n",
    "\n",
    "    # compare unweighted modularity of new communities to the initial, return if there should not be change in community structure\n",
    "    # Q: modularity of just the partition or the whole graph with the new partition?\n",
    "    if newGraph.modularity(set(subGraph.nodes())) > clusters.modularity:\n",
    "        return\n",
    "\n",
    "    # update the colors and group name of the nodes in the new community\n",
    "    # must know all the groups and community names and pick different ones\n",
    "    for node in clusters[0]:\n",
    "        network.update(nodes=[(node, {\"label\": \"g1\", \"color\": \"green\"})])\n",
    "    for node in clusters[1]:\n",
    "        network.update(nodes=[(node, {\"label\": \"g2\", \"color\": \"red\"})])\n",
    "    # update the papers? Need a data structure of the papers\n",
    "    "
   ]
  },
  {
   "cell_type": "markdown",
   "metadata": {},
   "source": [
    "Define initial parameters"
   ]
  },
  {
   "cell_type": "code",
   "execution_count": 81,
   "metadata": {},
   "outputs": [],
   "source": [
    "# define time steps\n",
    "timeSteps = 30\n",
    "\n",
    "# Probabilities\n",
    "# probability that you generate new author\n",
    "probNewAuthor = 0.5\n",
    "# probability that you stop at a given node\n",
    "probStop = 0.7\n",
    "\n",
    "# define fields\n",
    "fieldColors = {\"CS\": \"blue\", \n",
    "                \"Math\": \"green\", \n",
    "                \"Physics\": \"red\"}\n",
    "fields = list(fieldColors.keys())\n",
    "\n",
    "# define initial scholars, will be in form (id, scholarField, color)\n",
    "scholarField = random.choice(fields)\n",
    "nodeID = 0\n"
   ]
  },
  {
   "cell_type": "markdown",
   "metadata": {},
   "source": [
    "Create Model"
   ]
  },
  {
   "cell_type": "code",
   "execution_count": 82,
   "metadata": {},
   "outputs": [],
   "source": [
    "network = nx.Graph()\n",
    "scholarField = random.choice(fields)\n",
    "network.add_node(nodeID, label=scholarField, color=fieldColors[scholarField])\n",
    "# go through time steps, add new scholar and paper at each step\n",
    "for i in range(1, timeSteps):\n",
    "\n",
    "    # Choose first author, either new scholar or random choice\n",
    "    currNodes = list(network.nodes())\n",
    "    authors = [random.choice(currNodes)]\n",
    "\n",
    "    # with probability, add new author to network set as main author with a coauthor\n",
    "    if random.random() < probNewAuthor:\n",
    "        # generate author and field\n",
    "        scholarField = random.choice(fields)\n",
    "        nodeID += 1\n",
    "        author = nodeID\n",
    "        network.add_node(author, label=scholarField, color=fieldColors[scholarField])\n",
    "\n",
    "        # generate random coauthor from currNodes, which doesn't have the new node added in\n",
    "        coauthorID = random.choice(currNodes)\n",
    "        network.add_edge(author, coauthorID, weight=1, width=1)\n",
    "\n",
    "        # update authors list\n",
    "        authors = [author, coauthorID]\n",
    "\n",
    "    # Add new paper, calling function\n",
    "    createPaper(network, authors, probStop)"
   ]
  },
  {
   "cell_type": "markdown",
   "metadata": {},
   "source": [
    "Display Network"
   ]
  },
  {
   "cell_type": "code",
   "execution_count": 83,
   "metadata": {},
   "outputs": [
    {
     "name": "stdout",
     "output_type": "stream",
     "text": [
      "[(0, 1, {'weight': 2, 'width': 1}), (0, 5, {'weight': 3, 'width': 1}), (0, 8, {'weight': 1, 'width': 1}), (0, 18, {'weight': 1, 'width': 1}), (1, 2, {'weight': 3, 'width': 1}), (1, 3, {'weight': 3, 'width': 1}), (1, 6, {'weight': 1, 'width': 1}), (1, 11, {'weight': 1, 'width': 1}), (1, 14, {'weight': 1, 'width': 1}), (1, 18, {'weight': 1, 'width': 1}), (1, 5, {'weight': 1, 'width': 1}), (2, 4, {'weight': 2, 'width': 1}), (2, 6, {'weight': 1, 'width': 1}), (2, 7, {'weight': 1, 'width': 1}), (2, 9, {'weight': 1, 'width': 1}), (2, 10, {'weight': 2, 'width': 1}), (2, 11, {'weight': 2, 'width': 1}), (2, 12, {'weight': 1, 'width': 1}), (2, 15, {'weight': 1, 'width': 1}), (2, 16, {'weight': 1, 'width': 1}), (4, 10, {'weight': 1, 'width': 1}), (5, 18, {'weight': 1, 'width': 1}), (11, 16, {'weight': 2, 'width': 1}), (12, 13, {'weight': 1, 'width': 1}), (16, 17, {'weight': 1, 'width': 1})]\n"
     ]
    }
   ],
   "source": [
    "nt = Network()\n",
    "# populates the nodes and edges data structures\n",
    "nt.from_nx(network)\n",
    "print(network.edges.data())\n",
    "nt.show('docs/models/modularity.html')"
   ]
  },
  {
   "cell_type": "markdown",
   "metadata": {},
   "source": [
    "### Calculate modularity using iGraph"
   ]
  },
  {
   "cell_type": "code",
   "execution_count": 84,
   "metadata": {},
   "outputs": [
    {
     "name": "stdout",
     "output_type": "stream",
     "text": [
      "Clustering with 19 elements and 2 clusters\n",
      "[0] 0, 1, 3, 5, 8, 14, 18\n",
      "[1] 2, 4, 6, 7, 9, 10, 11, 12, 13, 15, 16, 17\n",
      "{0, 1, 2, 3, 4, 5, 6, 7, 8, 9, 10, 11, 12, 13, 14, 15, 16, 17, 18}\n",
      "test mod1: -0.09600000000000003\n",
      "test mod2: 0.3672\n"
     ]
    }
   ],
   "source": [
    "newGraph = Graph.from_networkx(network)\n",
    "clusters = newGraph.community_leading_eigenvector(clusters=2)\n",
    "# check if modularity of clusters is greater than whole\n",
    "print(clusters)\n",
    "\n",
    "# loop and update cluster colors\n",
    "for node in clusters[0]:\n",
    "    network.update(nodes=[(node, {\"label\": \"g1\", \"color\": \"green\"})])\n",
    "for node in clusters[1]:\n",
    "    network.update(nodes=[(node, {\"label\": \"g2\", \"color\": \"red\"})])\n",
    "print(set(network.nodes()))\n",
    "print(f'test mod1: {newGraph.modularity(set(network.nodes()))}')\n",
    "print(f'test mod2: {clusters.modularity}')\n",
    "splitCommunity(network, [0, 1, 3, 4, 5, 9, 10, 12])"
   ]
  },
  {
   "cell_type": "code",
   "execution_count": 85,
   "metadata": {},
   "outputs": [
    {
     "name": "stdout",
     "output_type": "stream",
     "text": [
      "[(0, 1, {'weight': 2, 'width': 1}), (0, 5, {'weight': 3, 'width': 1}), (0, 8, {'weight': 1, 'width': 1}), (0, 18, {'weight': 1, 'width': 1}), (1, 2, {'weight': 3, 'width': 1}), (1, 3, {'weight': 3, 'width': 1}), (1, 6, {'weight': 1, 'width': 1}), (1, 11, {'weight': 1, 'width': 1}), (1, 14, {'weight': 1, 'width': 1}), (1, 18, {'weight': 1, 'width': 1}), (1, 5, {'weight': 1, 'width': 1}), (2, 4, {'weight': 2, 'width': 1}), (2, 6, {'weight': 1, 'width': 1}), (2, 7, {'weight': 1, 'width': 1}), (2, 9, {'weight': 1, 'width': 1}), (2, 10, {'weight': 2, 'width': 1}), (2, 11, {'weight': 2, 'width': 1}), (2, 12, {'weight': 1, 'width': 1}), (2, 15, {'weight': 1, 'width': 1}), (2, 16, {'weight': 1, 'width': 1}), (4, 10, {'weight': 1, 'width': 1}), (5, 18, {'weight': 1, 'width': 1}), (11, 16, {'weight': 2, 'width': 1}), (12, 13, {'weight': 1, 'width': 1}), (16, 17, {'weight': 1, 'width': 1})]\n"
     ]
    }
   ],
   "source": [
    "# recreate network\n",
    "nt = Network()\n",
    "# populates the nodes and edges data structures\n",
    "nt.from_nx(network)\n",
    "print(network.edges.data())\n",
    "nt.show('docs/models/modularity.html')"
   ]
  }
 ],
 "metadata": {
  "interpreter": {
   "hash": "aee8b7b246df8f9039afb4144a1f6fd8d2ca17a180786b69acc140d282b71a49"
  },
  "kernelspec": {
   "display_name": "Python 3.9.2 64-bit",
   "language": "python",
   "name": "python3"
  },
  "language_info": {
   "codemirror_mode": {
    "name": "ipython",
    "version": 3
   },
   "file_extension": ".py",
   "mimetype": "text/x-python",
   "name": "python",
   "nbconvert_exporter": "python",
   "pygments_lexer": "ipython3",
   "version": "3.9.2"
  },
  "orig_nbformat": 4
 },
 "nbformat": 4,
 "nbformat_minor": 2
}
