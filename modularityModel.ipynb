{
 "cells": [
  {
   "cell_type": "markdown",
   "metadata": {},
   "source": [
    "Import Libraries"
   ]
  },
  {
   "cell_type": "code",
   "execution_count": 1,
   "metadata": {},
   "outputs": [],
   "source": [
    "from pyvis.network import Network\n",
    "import networkx as nx\n",
    "import random\n",
    "from igraph import Graph\n",
    "from helpers import createPaper, getNewCC, getCommNodes, splitCommunity"
   ]
  },
  {
   "cell_type": "markdown",
   "metadata": {},
   "source": [
    "Define initial parameters"
   ]
  },
  {
   "cell_type": "code",
   "execution_count": 2,
   "metadata": {},
   "outputs": [],
   "source": [
    "# define time steps\n",
    "timeSteps = 30\n",
    "\n",
    "# Probabilities\n",
    "# probability that you generate new author\n",
    "probNewAuthor = 0.5\n",
    "# probability that you stop at a given node\n",
    "probStop = 0.7\n",
    "# probability that a split event occurs\n",
    "pd = 0.5\n",
    "\n",
    "# define initial scholars, will be in form (id, scholarField, color)\n",
    "scholarField = 0\n",
    "nodeID = 0\n"
   ]
  },
  {
   "cell_type": "markdown",
   "metadata": {},
   "source": [
    "Create Model"
   ]
  },
  {
   "cell_type": "code",
   "execution_count": 3,
   "metadata": {},
   "outputs": [
    {
     "name": "stdout",
     "output_type": "stream",
     "text": [
      "0\n",
      "1\n",
      "2\n",
      "3\n",
      "4\n",
      "5\n",
      "6\n",
      "7\n",
      "8\n"
     ]
    }
   ],
   "source": [
    "network = nx.Graph()\n",
    "network.add_node(nodeID, label=scholarField, color=\"red\")\n",
    "# go through time steps, add new scholar and paper at each step\n",
    "for i in range(1, timeSteps):\n",
    "\n",
    "    # Choose first author, either new scholar or random choice\n",
    "    currNodes = list(network.nodes())\n",
    "    authors = [random.choice(currNodes)]\n",
    "\n",
    "    # with probability, add new author to network set as main author with a coauthor\n",
    "    if random.random() < probNewAuthor:\n",
    "        # generate author and field\n",
    "        nodeID += 1\n",
    "        author = nodeID\n",
    "\n",
    "        # generate random coauthor from currNodes,\n",
    "        coauthorID = random.choice(currNodes)\n",
    "\n",
    "        # add node with field being the co-author's field\n",
    "        scholarField = network.nodes[coauthorID][\"label\"]\n",
    "        network.add_node(author, label=scholarField, color=\"red\")\n",
    "        network.add_edge(author, coauthorID, weight=1, width=1)\n",
    "\n",
    "        # update authors list\n",
    "        authors = [author, coauthorID]\n",
    "\n",
    "    # Add new paper, calling function\n",
    "    createPaper(network, authors, probStop)\n",
    "\n",
    "    # split random discipline with prob pd\n",
    "    if random.random() < pd:\n",
    "        commNodes = getCommNodes(network, 0)\n",
    "        splitCommunity(network, commNodes)"
   ]
  },
  {
   "cell_type": "markdown",
   "metadata": {},
   "source": [
    "Display Network"
   ]
  },
  {
   "cell_type": "code",
   "execution_count": 4,
   "metadata": {},
   "outputs": [
    {
     "name": "stdout",
     "output_type": "stream",
     "text": [
      "[(0, 1, {'weight': 1, 'width': 1}), (0, 4, {'weight': 3, 'width': 1}), (0, 7, {'weight': 3, 'width': 1}), (0, 13, {'weight': 3, 'width': 1}), (0, 15, {'weight': 1, 'width': 1}), (0, 19, {'weight': 1, 'width': 1}), (1, 2, {'weight': 4, 'width': 1}), (1, 3, {'weight': 2, 'width': 1}), (1, 5, {'weight': 2, 'width': 1}), (1, 10, {'weight': 1, 'width': 1}), (2, 3, {'weight': 2, 'width': 1}), (2, 5, {'weight': 1, 'width': 1}), (2, 9, {'weight': 1, 'width': 1}), (2, 12, {'weight': 1, 'width': 1}), (3, 6, {'weight': 1, 'width': 1}), (3, 11, {'weight': 1, 'width': 1}), (4, 7, {'weight': 1, 'width': 1}), (4, 13, {'weight': 1, 'width': 1}), (5, 10, {'weight': 1, 'width': 1}), (6, 8, {'weight': 1, 'width': 1}), (7, 13, {'weight': 2, 'width': 1}), (7, 15, {'weight': 1, 'width': 1}), (10, 14, {'weight': 1, 'width': 1}), (11, 16, {'weight': 1, 'width': 1}), (11, 18, {'weight': 1, 'width': 1}), (13, 15, {'weight': 1, 'width': 1}), (15, 17, {'weight': 1, 'width': 1})]\n"
     ]
    }
   ],
   "source": [
    "nt = Network()\n",
    "# populates the nodes and edges data structures\n",
    "nt.from_nx(network)\n",
    "print(network.edges.data())\n",
    "nt.show('docs/models/modularity.html')"
   ]
  }
 ],
 "metadata": {
  "interpreter": {
   "hash": "aee8b7b246df8f9039afb4144a1f6fd8d2ca17a180786b69acc140d282b71a49"
  },
  "kernelspec": {
   "display_name": "Python 3.9.2 64-bit",
   "language": "python",
   "name": "python3"
  },
  "language_info": {
   "codemirror_mode": {
    "name": "ipython",
    "version": 3
   },
   "file_extension": ".py",
   "mimetype": "text/x-python",
   "name": "python",
   "nbconvert_exporter": "python",
   "pygments_lexer": "ipython3",
   "version": "3.9.2"
  },
  "orig_nbformat": 4
 },
 "nbformat": 4,
 "nbformat_minor": 2
}
