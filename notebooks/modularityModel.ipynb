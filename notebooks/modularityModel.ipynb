{
 "cells": [
  {
   "cell_type": "markdown",
   "metadata": {},
   "source": [
    "Import Libraries"
   ]
  },
  {
   "cell_type": "code",
   "execution_count": 5,
   "metadata": {},
   "outputs": [],
   "source": [
    "from pyvis.network import Network\n",
    "import matplotlib.pyplot as plt\n",
    "import networkx as nx\n",
    "import random\n",
    "from helpers import getCommNodes, splitCommunity, genGraphFeatures, getTopic"
   ]
  },
  {
   "cell_type": "markdown",
   "metadata": {},
   "source": [
    "Define initial parameters"
   ]
  },
  {
   "cell_type": "code",
   "execution_count": 6,
   "metadata": {},
   "outputs": [],
   "source": [
    "# define time steps\n",
    "timeSteps = 50\n",
    "\n",
    "'''PROBABILITIES'''\n",
    "# probability that you generate new author\n",
    "probNewAuthor = 0.5\n",
    "# probability that you stop at a given node when generating papers\n",
    "probStop = 0.7\n",
    "# probability that a split event occurs\n",
    "probSplit = 0.5\n",
    "# probability that a merge event occurs\n",
    "probMerge = 0.5\n",
    "\n",
    "# define initial scholars, will be in form (id, scholartopic, color)\n",
    "scholarTopic = 0\n",
    "nodeID = 0\n",
    "paperID = 0\n"
   ]
  },
  {
   "cell_type": "markdown",
   "metadata": {},
   "source": [
    "Create Model"
   ]
  },
  {
   "cell_type": "code",
   "execution_count": 8,
   "metadata": {},
   "outputs": [
    {
     "name": "stdout",
     "output_type": "stream",
     "text": [
      "(0, [0])\n",
      "(0, [0])\n",
      "(0, [0])\n",
      "(0, [0])\n",
      "(0, [0])\n",
      "(0, [0])\n",
      "(0, [0])\n",
      "(0, [1, 0])\n",
      "(0, [0])\n",
      "None\n"
     ]
    },
    {
     "ename": "TypeError",
     "evalue": "'NoneType' object is not subscriptable",
     "output_type": "error",
     "traceback": [
      "\u001b[0;31m---------------------------------------------------------------------------\u001b[0m",
      "\u001b[0;31mTypeError\u001b[0m                                 Traceback (most recent call last)",
      "\u001b[0;32m/var/folders/qp/kbk93qxn41s488wn8qj4p7mm0000gn/T/ipykernel_87447/2002028389.py\u001b[0m in \u001b[0;36m<module>\u001b[0;34m\u001b[0m\n\u001b[1;32m     37\u001b[0m \u001b[0;34m\u001b[0m\u001b[0m\n\u001b[1;32m     38\u001b[0m     \u001b[0;31m# add paper to corresponding topic\u001b[0m\u001b[0;34m\u001b[0m\u001b[0;34m\u001b[0m\u001b[0;34m\u001b[0m\u001b[0m\n\u001b[0;32m---> 39\u001b[0;31m     \u001b[0;32mif\u001b[0m \u001b[0mpaper\u001b[0m\u001b[0;34m[\u001b[0m\u001b[0;36m0\u001b[0m\u001b[0;34m]\u001b[0m \u001b[0;32mnot\u001b[0m \u001b[0;32min\u001b[0m \u001b[0mtopics\u001b[0m\u001b[0;34m:\u001b[0m\u001b[0;34m\u001b[0m\u001b[0;34m\u001b[0m\u001b[0m\n\u001b[0m\u001b[1;32m     40\u001b[0m         \u001b[0mtopics\u001b[0m\u001b[0;34m[\u001b[0m\u001b[0mpaper\u001b[0m\u001b[0;34m[\u001b[0m\u001b[0;36m0\u001b[0m\u001b[0;34m]\u001b[0m\u001b[0;34m]\u001b[0m \u001b[0;34m=\u001b[0m \u001b[0;34m[\u001b[0m\u001b[0;34m]\u001b[0m\u001b[0;34m\u001b[0m\u001b[0;34m\u001b[0m\u001b[0m\n\u001b[1;32m     41\u001b[0m     \u001b[0mtopics\u001b[0m\u001b[0;34m[\u001b[0m\u001b[0mpaper\u001b[0m\u001b[0;34m[\u001b[0m\u001b[0;36m0\u001b[0m\u001b[0;34m]\u001b[0m\u001b[0;34m]\u001b[0m\u001b[0;34m.\u001b[0m\u001b[0mappend\u001b[0m\u001b[0;34m(\u001b[0m\u001b[0mpaperID\u001b[0m\u001b[0;34m)\u001b[0m\u001b[0;34m\u001b[0m\u001b[0;34m\u001b[0m\u001b[0m\n",
      "\u001b[0;31mTypeError\u001b[0m: 'NoneType' object is not subscriptable"
     ]
    }
   ],
   "source": [
    "network = nx.Graph()\n",
    "network.add_node(nodeID, label=scholarTopic, color=\"red\")\n",
    "\n",
    "# initialize Topics and papers data structures\n",
    "papers = {}\n",
    "topics = {}\n",
    "\n",
    "# go through time steps, add new scholar and paper at each step\n",
    "for i in range(1, timeSteps):\n",
    "\n",
    "    # Choose first author, sets initially as random scholar (can be overridden with new scholar later)\n",
    "    currNodes = list(network.nodes())\n",
    "    authors = [random.choice(currNodes)]\n",
    "\n",
    "    # with probability, add new author to network set as main author with a coauthor\n",
    "    if random.random() < probNewAuthor:\n",
    "        # generate author and Topic\n",
    "        nodeID += 1\n",
    "        author = nodeID\n",
    "\n",
    "        # generate random coauthor from currNodes,\n",
    "        coauthorID = random.choice(currNodes)\n",
    "\n",
    "        # add node with Topic being the co-author's Topic\n",
    "        # THIS NEEDS TO BE CHANGED TO MAJORITY OF PAPER\n",
    "        scholarTopic = network.nodes[coauthorID][\"label\"]\n",
    "        network.add_node(author, label=scholarTopic, color=\"red\")\n",
    "        network.add_edge(author, coauthorID, weight=1, width=1)\n",
    "\n",
    "        # update authors list\n",
    "        authors = [author, coauthorID]\n",
    "\n",
    "    # Add new paper, calling function\n",
    "    paper = createPaper(network, authors, probStop)\n",
    "    print(paper)\n",
    "    papers[paperID] = paper\n",
    "\n",
    "    # add paper to corresponding topic\n",
    "    if paper[0] not in topics:\n",
    "        topics[paper[0]] = []\n",
    "    topics[paper[0]].append(paperID)\n",
    "    paperID += 1\n",
    "\n",
    "    # split random discipline with prob pd\n",
    "    if random.random() < probSplit:\n",
    "        commNodes = getCommNodes(network, random.choice(list(topics.keys())))\n",
    "        splitCommunity(network, commNodes)\n",
    "\n",
    "    # merge random discipline with prob pm\n",
    "    if random.random() < probMerge:\n",
    "        pass\n"
   ]
  },
  {
   "cell_type": "markdown",
   "metadata": {},
   "source": [
    "Display Network"
   ]
  },
  {
   "cell_type": "code",
   "execution_count": null,
   "metadata": {},
   "outputs": [],
   "source": [
    "nodeLabels, nodeColors = genGraphFeatures(network)\n",
    "# spring layout\n",
    "pos = nx.spring_layout(network, seed=3068)  # Seed layout for reproducibility\n",
    "nx.draw(network, pos=pos, with_labels=True, labels=nodeLabels, node_color=nodeColors)\n",
    "plt.show()\n",
    "\n",
    "# shell layout\n",
    "pos = nx.shell_layout(network)  # Seed layout for reproducibility\n",
    "nx.draw(network, pos=pos, with_labels=True, labels=nodeLabels, node_color=nodeColors)\n",
    "plt.show()"
   ]
  },
  {
   "cell_type": "code",
   "execution_count": null,
   "metadata": {},
   "outputs": [],
   "source": [
    "nt = Network()\n",
    "# populates the nodes and edges data structures\n",
    "nt.from_nx(network)\n",
    "nt.show('docs/models/modularity.html')"
   ]
  }
 ],
 "metadata": {
  "interpreter": {
   "hash": "aee8b7b246df8f9039afb4144a1f6fd8d2ca17a180786b69acc140d282b71a49"
  },
  "kernelspec": {
   "display_name": "Python 3.9.2 64-bit",
   "language": "python",
   "name": "python3"
  },
  "language_info": {
   "codemirror_mode": {
    "name": "ipython",
    "version": 3
   },
   "file_extension": ".py",
   "mimetype": "text/x-python",
   "name": "python",
   "nbconvert_exporter": "python",
   "pygments_lexer": "ipython3",
   "version": "3.9.2"
  },
  "orig_nbformat": 4
 },
 "nbformat": 4,
 "nbformat_minor": 2
}
