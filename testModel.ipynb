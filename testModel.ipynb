{
 "cells": [
  {
   "cell_type": "markdown",
   "metadata": {},
   "source": [
    "Import Libraries"
   ]
  },
  {
   "cell_type": "code",
   "execution_count": 97,
   "metadata": {},
   "outputs": [],
   "source": [
    "from pyvis.network import Network\n",
    "import networkx as nx\n",
    "import random"
   ]
  },
  {
   "cell_type": "markdown",
   "metadata": {},
   "source": [
    "Create Helper Functions"
   ]
  },
  {
   "cell_type": "code",
   "execution_count": null,
   "metadata": {},
   "outputs": [],
   "source": [
    "# recursive function that will traverse the nodes\n",
    "def createPaper(network, authors, probStop):\n",
    "    '''\n",
    "    Will take network, list of authors, and probStop as input\n",
    "    '''\n",
    "\n",
    "    # base condition, stop at node\n",
    "    if random.random() < probStop:\n",
    "        return\n",
    "    \n",
    "    # create list reprsenting probabilities for the neighboring nodes of the current coauthor\n",
    "    probs = []\n",
    "    authorID = authors[-1]\n",
    "    newNeighbors = network.neighbors(authorID)\n",
    "    for neighbor in network.neighbors(authorID):\n",
    "        nData = network.get_edge_data(authorID, neighbor)\n",
    "        probs.extend([neighbor] * nData[\"weight\"])\n",
    "\n",
    "    # Select coauthor from neighbors probabilities list\n",
    "    if len(probs):\n",
    "        coauthorID = random.choice(probs)\n",
    "    # randomly select author from all authors because it is a new author\n",
    "    else:\n",
    "        otherNodes = list(network.nodes())\n",
    "        otherNodes.pop(authorID)\n",
    "        # edge case if there is only one node in the network\n",
    "        if not len(otherNodes):\n",
    "            return\n",
    "        coauthorID = random.choice(otherNodes)\n",
    "        network.add_edge(authorID, coauthorID, weight=0, width=1)\n",
    "\n",
    "    # update all edges of coauthors to this new author\n",
    "    for author in authors:\n",
    "        # if there is not an edge, create one\n",
    "        if not network.has_edge(author, coauthorID) and author != coauthorID:\n",
    "            network.add_edge(author, coauthorID, weight=0, width=1)\n",
    "        newWeight = network.get_edge_data(authorID, coauthorID)[\"weight\"] + 1\n",
    "        #network.update(edges=[ (authorID, coauthorID, {\"weight\": newWeight, \"width\": newWeight//2}) ])\n",
    "        network.update(edges=[ (authorID, coauthorID, {\"weight\": newWeight}) ])\n",
    "\n",
    "    # call function recursively with coauthor\n",
    "    authors.append(coauthorID)\n",
    "    createPaper(network, authors, probStop)\n",
    "\n",
    "    # can't go back to initial authors\n",
    "\n",
    "    # new author must have one collaborator\n",
    "\n",
    "def create():\n",
    "    return"
   ]
  },
  {
   "cell_type": "markdown",
   "metadata": {},
   "source": [
    "Define initial parameters"
   ]
  },
  {
   "cell_type": "code",
   "execution_count": 99,
   "metadata": {},
   "outputs": [],
   "source": [
    "# define time steps\n",
    "timeSteps = 50\n",
    "\n",
    "# Probabilities\n",
    "# probability that you stop at the given node\n",
    "pw = 0.5\n",
    "\n",
    "# define fields\n",
    "fieldColors = {\"CS\": \"blue\", \n",
    "                \"Math\": \"green\", \n",
    "                \"Physics\": \"red\"}\n",
    "fields = list(fieldColors.keys())\n",
    "\n",
    "# define initial scholars, will be in form (id, scholarField, color)\n",
    "scholarField = random.choice(fields)\n",
    "nodeID = 0\n"
   ]
  },
  {
   "cell_type": "markdown",
   "metadata": {},
   "source": [
    "Create Model"
   ]
  },
  {
   "cell_type": "code",
   "execution_count": 100,
   "metadata": {},
   "outputs": [],
   "source": [
    "network = nx.Graph()\n",
    "scholarField = random.choice(fields)\n",
    "network.add_node(nodeID, label=scholarField, color=fieldColors[scholarField])\n",
    "# go through time steps, add new scholar and paper at each step\n",
    "for i in range(1, timeSteps):\n",
    "\n",
    "    # Choose first author, either new scholar or random choice\n",
    "    allNodes = list(network.nodes())\n",
    "    authors = [random.choice(allNodes)]\n",
    "\n",
    "    # with probability, add new author to network\n",
    "    if random.random() < pw:\n",
    "        # generate author and field\n",
    "        scholarField = random.choice(fields)\n",
    "        nodeID += 1\n",
    "        author = nodeID\n",
    "        network.add_node(author, label=scholarField, color=fieldColors[scholarField])\n",
    "\n",
    "        # generate random coauthor\n",
    "        otherNodes = list(network.nodes())\n",
    "        otherNodes.pop(author)\n",
    "        coauthorID = random.choice(otherNodes)\n",
    "        network.add_edge(author, coauthorID, weight=1, width=1)\n",
    "\n",
    "        #update authors list\n",
    "        authors = [author, coauthorID]\n",
    "\n",
    "    # Add new paper, calling function\n",
    "    probStop = 0.3\n",
    "    createPaper(network, authors, probStop)\n",
    "\n",
    "    # add authors as members to this topic\n",
    "\n",
    "    # add emergence of new topic if field multidiscipiplinary (i.e. the union of the fields)\n",
    "\n",
    "    # do you make it the author of the paper?"
   ]
  },
  {
   "cell_type": "markdown",
   "metadata": {},
   "source": [
    "Display Network"
   ]
  },
  {
   "cell_type": "code",
   "execution_count": 101,
   "metadata": {},
   "outputs": [],
   "source": [
    "nt = Network()\n",
    "# populates the nodes and edges data structures\n",
    "nt.from_nx(network)\n",
    "nt\n",
    "nt.show('testModel.html')"
   ]
  }
 ],
 "metadata": {
  "interpreter": {
   "hash": "aee8b7b246df8f9039afb4144a1f6fd8d2ca17a180786b69acc140d282b71a49"
  },
  "kernelspec": {
   "display_name": "Python 3.9.2 64-bit",
   "language": "python",
   "name": "python3"
  },
  "language_info": {
   "codemirror_mode": {
    "name": "ipython",
    "version": 3
   },
   "file_extension": ".py",
   "mimetype": "text/x-python",
   "name": "python",
   "nbconvert_exporter": "python",
   "pygments_lexer": "ipython3",
   "version": "3.9.2"
  },
  "orig_nbformat": 4
 },
 "nbformat": 4,
 "nbformat_minor": 2
}
