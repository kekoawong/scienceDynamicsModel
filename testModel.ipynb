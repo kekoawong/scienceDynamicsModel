{
 "cells": [
  {
   "cell_type": "markdown",
   "metadata": {},
   "source": [
    "Import Libraries"
   ]
  },
  {
   "cell_type": "code",
   "execution_count": 70,
   "metadata": {},
   "outputs": [],
   "source": [
    "from pyvis.network import Network\n",
    "import random"
   ]
  },
  {
   "cell_type": "markdown",
   "metadata": {},
   "source": [
    "Define initial parameters"
   ]
  },
  {
   "cell_type": "code",
   "execution_count": 71,
   "metadata": {},
   "outputs": [],
   "source": [
    "# define time steps\n",
    "timeSteps = 10\n",
    "\n",
    "# Probabilities\n",
    "\n",
    "pn = 0.5\n",
    "# probability that you stop at the given node\n",
    "pw = 0.5\n",
    "# \n",
    "\n",
    "\n",
    "# define fields\n",
    "fieldColors = {\"CS\": \"blue\", \n",
    "                \"Math\": \"green\", \n",
    "                \"Physics\": \"red\"}\n",
    "fields = list(fieldColors.keys())\n",
    "\n",
    "# define initial scholars, will be in form (id, scholarField, color)\n",
    "scholarField = random.choice(fields)\n",
    "newScholar = (0, scholarField, fieldColors[scholarField])\n",
    "scholars = [newScholar]\n"
   ]
  },
  {
   "cell_type": "markdown",
   "metadata": {},
   "source": [
    "Create Helper Functions"
   ]
  },
  {
   "cell_type": "code",
   "execution_count": 72,
   "metadata": {},
   "outputs": [],
   "source": [
    "def createPaper(network, primaryAuthor):\n",
    "    nodes = network.get_nodes()\n",
    "    randomNode = random.choice(nodes)\n",
    "\n",
    "    # calculate probability of creating paper\n",
    "    "
   ]
  },
  {
   "cell_type": "markdown",
   "metadata": {},
   "source": [
    "Create Model"
   ]
  },
  {
   "cell_type": "code",
   "execution_count": 73,
   "metadata": {},
   "outputs": [],
   "source": [
    "net = Network()\n",
    "scholarField = random.choice(fields)\n",
    "net.add_node(newScholar[0], label=newScholar[1], color=newScholar[2])\n",
    "net.add_edge(0, 0, width=4)\n",
    "\n",
    "# go through time steps, add new scholar and paper at each step\n",
    "for i in range(1, timeSteps):\n",
    "\n",
    "    # SECTION 2: add new scholar\n",
    "    # do probability, if a new author added, then they are first author\n",
    "    scholarField = random.choice(fields)\n",
    "    newScholar = (i, scholarField, fieldColors[scholarField])\n",
    "    scholars.append(newScholar)\n",
    "    net.add_node(newScholar[0], label=newScholar[1], color=newScholar[2])\n",
    "\n",
    "    # SECTION 1: Add new paper\n",
    "    # select first author randomly\n",
    "    firstAuthor = random.choice(scholars)\n",
    "    neighbors = net.neighbors(firstAuthor[0])\n",
    "    createPaper(net, firstAuthor)\n",
    "\n",
    "    # define paper topic, calculate majority of authors\n",
    "\n",
    "    # add authors as members to this topic\n",
    "\n",
    "    # add emergence of new topic if field multidiscipiplinary (i.e. the union of the fields)\n",
    "\n",
    "\n",
    "\n",
    "    # do you make it the author of the paper?"
   ]
  },
  {
   "cell_type": "markdown",
   "metadata": {},
   "source": [
    "Display Network"
   ]
  },
  {
   "cell_type": "code",
   "execution_count": 74,
   "metadata": {},
   "outputs": [],
   "source": [
    "net.show('testModel.html')"
   ]
  }
 ],
 "metadata": {
  "interpreter": {
   "hash": "aee8b7b246df8f9039afb4144a1f6fd8d2ca17a180786b69acc140d282b71a49"
  },
  "kernelspec": {
   "display_name": "Python 3.9.2 64-bit",
   "language": "python",
   "name": "python3"
  },
  "language_info": {
   "codemirror_mode": {
    "name": "ipython",
    "version": 3
   },
   "file_extension": ".py",
   "mimetype": "text/x-python",
   "name": "python",
   "nbconvert_exporter": "python",
   "pygments_lexer": "ipython3",
   "version": "3.9.2"
  },
  "orig_nbformat": 4
 },
 "nbformat": 4,
 "nbformat_minor": 2
}
