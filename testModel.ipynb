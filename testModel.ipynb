{
 "cells": [
  {
   "cell_type": "markdown",
   "metadata": {},
   "source": [
    "Import Libraries"
   ]
  },
  {
   "cell_type": "code",
   "execution_count": 190,
   "metadata": {},
   "outputs": [],
   "source": [
    "from pyvis.network import Network\n",
    "import networkx as nx\n",
    "import random"
   ]
  },
  {
   "cell_type": "markdown",
   "metadata": {},
   "source": [
    "Define initial parameters"
   ]
  },
  {
   "cell_type": "code",
   "execution_count": 191,
   "metadata": {},
   "outputs": [],
   "source": [
    "# define time steps\n",
    "timeSteps = 50\n",
    "\n",
    "# Probabilities\n",
    "# prob new author gets added to network at a given timestep\n",
    "pn = 0.5\n",
    "# probability that you stop at the given node\n",
    "pw = 0.5\n",
    "# \n",
    "\n",
    "\n",
    "# define fields\n",
    "fieldColors = {\"CS\": \"blue\", \n",
    "                \"Math\": \"green\", \n",
    "                \"Physics\": \"red\"}\n",
    "fields = list(fieldColors.keys())\n",
    "\n",
    "# define initial scholars, will be in form (id, scholarField, color)\n",
    "scholarField = random.choice(fields)\n",
    "nodeID = 0\n",
    "newScholar = (nodeID, scholarField, fieldColors[scholarField])\n"
   ]
  },
  {
   "cell_type": "markdown",
   "metadata": {},
   "source": [
    "Create Helper Functions"
   ]
  },
  {
   "cell_type": "code",
   "execution_count": 192,
   "metadata": {},
   "outputs": [],
   "source": [
    "# recursive function that will traverse the nodes\n",
    "def createPaper(network, authorID, probStop):\n",
    "    # base condition, stop at node\n",
    "    if random.random() < probStop:\n",
    "        return\n",
    "    \n",
    "    # create list reprsenting probabilities for the neighboring nodes\n",
    "    probs = []\n",
    "    for neighbor in network.neighbors(authorID):\n",
    "        nData = network.get_edge_data(authorID, neighbor)\n",
    "        probs.extend([neighbor] * nData[\"weight\"])\n",
    "\n",
    "    # randomly select coauthor from node list\n",
    "    if len(probs):\n",
    "        coauthorID = random.choice(probs)\n",
    "    # randomly select author from network edges because it is a new author\n",
    "    else:\n",
    "        otherNodes = list(network.nodes())\n",
    "        otherNodes.pop(authorID)\n",
    "        # edge case if there is only one node in the network\n",
    "        if not len(otherNodes):\n",
    "            return\n",
    "        coauthorID = random.choice(otherNodes)\n",
    "        network.add_edge(authorID, coauthorID, weight=0, width=1)\n",
    "\n",
    "    # update edge\n",
    "    newWeight = network.get_edge_data(authorID, coauthorID)[\"weight\"] + 1\n",
    "    network.update(edges=[ (authorID, coauthorID, {\"weight\": newWeight, \"width\": newWeight//2}) ])\n",
    "\n",
    "    # call function recursively with coauthor\n",
    "    createPaper(network, coauthorID, probStop)\n",
    "\n",
    "def create():\n",
    "    return"
   ]
  },
  {
   "cell_type": "markdown",
   "metadata": {},
   "source": [
    "Create Model"
   ]
  },
  {
   "cell_type": "code",
   "execution_count": 193,
   "metadata": {},
   "outputs": [],
   "source": [
    "network = nx.Graph()\n",
    "scholarField = random.choice(fields)\n",
    "network.add_node(newScholar[0], label=newScholar[1], color=newScholar[2])\n",
    "\n",
    "# go through time steps, add new scholar and paper at each step\n",
    "for i in range(1, timeSteps):\n",
    "\n",
    "    # Choose first author, either new scholar or random choice\n",
    "    allNodes = list(network.nodes())\n",
    "    author = random.choice(allNodes)\n",
    "    # with probability, add new author to network\n",
    "    if random.random() < pw:\n",
    "        scholarField = random.choice(fields)\n",
    "        nodeID += 1\n",
    "        author = nodeID\n",
    "        network.add_node(nodeID, label=scholarField, color=fieldColors[scholarField])\n",
    "\n",
    "    # Add new paper, calling function\n",
    "    createPaper(network, author, 0.3)\n",
    "\n",
    "    # add authors as members to this topic\n",
    "\n",
    "    # add emergence of new topic if field multidiscipiplinary (i.e. the union of the fields)\n",
    "\n",
    "    # do you make it the author of the paper?"
   ]
  },
  {
   "cell_type": "code",
   "execution_count": 194,
   "metadata": {},
   "outputs": [],
   "source": [
    "# network.add_edge(0, 1, weight=10)\n",
    "# for u in network.neighbors(0):\n",
    "#     k = network.get_edge_data(0, u)\n",
    "#     print(k)\n",
    "#     #print(f'{u}, {v}, {weight}')\n",
    "# network.update(edges=[(0,1, {\"weight\": 14})] )\n",
    "\n",
    "# for u in network.neighbors(0):\n",
    "#     k = network.get_edge_data(0, u)\n",
    "#     #print(f'{u}, {v}, {weight}')\n",
    "\n",
    "# random.choice(list(network.nodes()))"
   ]
  },
  {
   "cell_type": "markdown",
   "metadata": {},
   "source": [
    "Display Network"
   ]
  },
  {
   "cell_type": "code",
   "execution_count": 195,
   "metadata": {},
   "outputs": [],
   "source": [
    "nt = Network()\n",
    "# populates the nodes and edges data structures\n",
    "nt.from_nx(network)\n",
    "nt\n",
    "nt.show('testModel.html')"
   ]
  }
 ],
 "metadata": {
  "interpreter": {
   "hash": "aee8b7b246df8f9039afb4144a1f6fd8d2ca17a180786b69acc140d282b71a49"
  },
  "kernelspec": {
   "display_name": "Python 3.9.2 64-bit",
   "language": "python",
   "name": "python3"
  },
  "language_info": {
   "codemirror_mode": {
    "name": "ipython",
    "version": 3
   },
   "file_extension": ".py",
   "mimetype": "text/x-python",
   "name": "python",
   "nbconvert_exporter": "python",
   "pygments_lexer": "ipython3",
   "version": "3.9.2"
  },
  "orig_nbformat": 4
 },
 "nbformat": 4,
 "nbformat_minor": 2
}
