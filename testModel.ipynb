{
 "cells": [
  {
   "cell_type": "markdown",
   "metadata": {},
   "source": [
    "Import Libraries"
   ]
  },
  {
   "cell_type": "code",
   "execution_count": 49,
   "metadata": {},
   "outputs": [],
   "source": [
    "from pyvis.network import Network\n",
    "import networkx as nx\n",
    "import random"
   ]
  },
  {
   "cell_type": "markdown",
   "metadata": {},
   "source": [
    "Create Helper Functions"
   ]
  },
  {
   "cell_type": "code",
   "execution_count": 50,
   "metadata": {},
   "outputs": [],
   "source": [
    "# recursive function that will traverse the nodes\n",
    "def createPaper(network, authors, probStop):\n",
    "    '''\n",
    "    Will take network, list of authors, and probStop as input\n",
    "    '''\n",
    "    currAuthorID = authors[-1]\n",
    "    newNeighbors = set(network.neighbors(currAuthorID)).difference(set(authors))\n",
    "\n",
    "    # base condition: stop at node if probStop hit or there are no new neighbors to traverse\n",
    "    if random.random() < probStop or len(newNeighbors) == 0:\n",
    "        return\n",
    "    \n",
    "    # create list reprsenting probabilities for the neighboring nodes of the current coauthor\n",
    "    probs = []\n",
    "    for neighbor in newNeighbors:\n",
    "        nData = network.get_edge_data(currAuthorID, neighbor)\n",
    "        probs.extend([neighbor] * nData[\"weight\"])\n",
    "\n",
    "    # Select coauthor from neighbors probabilities list\n",
    "    try:\n",
    "        coauthorID = random.choice(probs)\n",
    "    except IndexError:\n",
    "        print(f'Probs: {probs} and neighbors: {newNeighbors} and weight: {nData[\"weight\"]}')\n",
    "        print(network.edges.data())\n",
    "\n",
    "    # update all edges of coauthors to this new author\n",
    "    for author in authors:\n",
    "        # if there is not an edge, create one\n",
    "        if not network.has_edge(author, coauthorID) and author != coauthorID:\n",
    "            network.add_edge(author, coauthorID, weight=0, width=1)\n",
    "        newWeight = network.get_edge_data(author, coauthorID)[\"weight\"] + 1\n",
    "        #network.update(edges=[ (author, coauthorID, {\"weight\": newWeight, \"width\": newWeight//2}) ])\n",
    "        network.update(edges=[ (author, coauthorID, {\"weight\": newWeight}) ])\n",
    "\n",
    "    # call function recursively with coauthor\n",
    "    authors.append(coauthorID)\n",
    "    createPaper(network, authors, probStop)\n",
    "\n",
    "def create():\n",
    "    return"
   ]
  },
  {
   "cell_type": "markdown",
   "metadata": {},
   "source": [
    "Define initial parameters"
   ]
  },
  {
   "cell_type": "code",
   "execution_count": 51,
   "metadata": {},
   "outputs": [],
   "source": [
    "# define time steps\n",
    "timeSteps = 50\n",
    "\n",
    "# Probabilities\n",
    "# probability that you generate new author\n",
    "pw = 0.5\n",
    "\n",
    "# define fields\n",
    "fieldColors = {\"CS\": \"blue\", \n",
    "                \"Math\": \"green\", \n",
    "                \"Physics\": \"red\"}\n",
    "fields = list(fieldColors.keys())\n",
    "\n",
    "# define initial scholars, will be in form (id, scholarField, color)\n",
    "scholarField = random.choice(fields)\n",
    "nodeID = 0\n"
   ]
  },
  {
   "cell_type": "markdown",
   "metadata": {},
   "source": [
    "Create Model"
   ]
  },
  {
   "cell_type": "code",
   "execution_count": 52,
   "metadata": {},
   "outputs": [
    {
     "name": "stdout",
     "output_type": "stream",
     "text": [
      "Probs: [] and neighbors: {1, 2, 6} and weight: 0\n",
      "[(0, 1, {'weight': 19, 'width': 1}), (0, 2, {'weight': 0, 'width': 1}), (0, 3, {'weight': 20, 'width': 1}), (0, 4, {'weight': 0, 'width': 1}), (0, 5, {'weight': 0, 'width': 1}), (0, 6, {'weight': 0, 'width': 1}), (0, 7, {'weight': 1, 'width': 1}), (0, 9, {'weight': 0, 'width': 1}), (1, 2, {'weight': 18, 'width': 1}), (1, 3, {'weight': 0, 'width': 1}), (1, 4, {'weight': 0, 'width': 1}), (1, 6, {'weight': 0, 'width': 1}), (1, 8, {'weight': 0, 'width': 1}), (1, 9, {'weight': 0, 'width': 1}), (1, 10, {'weight': 5, 'width': 1}), (1, 11, {'weight': 0, 'width': 1}), (2, 4, {'weight': 0, 'width': 1}), (2, 3, {'weight': 0, 'width': 1}), (2, 6, {'weight': 8, 'width': 1}), (2, 8, {'weight': 0, 'width': 1}), (2, 9, {'weight': 2, 'width': 1}), (2, 11, {'weight': 0, 'width': 1}), (2, 10, {'weight': 0, 'width': 1}), (3, 4, {'weight': 18, 'width': 1}), (3, 5, {'weight': 0, 'width': 1}), (3, 6, {'weight': 0, 'width': 1}), (3, 7, {'weight': 0, 'width': 1}), (3, 9, {'weight': 0, 'width': 1}), (4, 5, {'weight': 7, 'width': 1}), (4, 6, {'weight': 0, 'width': 1}), (4, 7, {'weight': 0, 'width': 1}), (4, 9, {'weight': 0, 'width': 1}), (4, 12, {'weight': 1, 'width': 1}), (5, 7, {'weight': 0, 'width': 1}), (6, 8, {'weight': 2, 'width': 1}), (6, 11, {'weight': 0, 'width': 1}), (6, 10, {'weight': 0, 'width': 1}), (10, 11, {'weight': 4, 'width': 1}), (10, 13, {'weight': 1, 'width': 1}), (11, 13, {'weight': 0, 'width': 1})]\n"
     ]
    },
    {
     "ename": "UnboundLocalError",
     "evalue": "local variable 'coauthorID' referenced before assignment",
     "output_type": "error",
     "traceback": [
      "\u001b[0;31m---------------------------------------------------------------------------\u001b[0m",
      "\u001b[0;31mUnboundLocalError\u001b[0m                         Traceback (most recent call last)",
      "\u001b[0;32m/var/folders/qp/kbk93qxn41s488wn8qj4p7mm0000gn/T/ipykernel_92267/2973900238.py\u001b[0m in \u001b[0;36m<module>\u001b[0;34m\u001b[0m\n\u001b[1;32m     26\u001b[0m     \u001b[0;31m# Add new paper, calling function\u001b[0m\u001b[0;34m\u001b[0m\u001b[0;34m\u001b[0m\u001b[0;34m\u001b[0m\u001b[0m\n\u001b[1;32m     27\u001b[0m     \u001b[0mprobStop\u001b[0m \u001b[0;34m=\u001b[0m \u001b[0;36m0.3\u001b[0m\u001b[0;34m\u001b[0m\u001b[0;34m\u001b[0m\u001b[0m\n\u001b[0;32m---> 28\u001b[0;31m     \u001b[0mcreatePaper\u001b[0m\u001b[0;34m(\u001b[0m\u001b[0mnetwork\u001b[0m\u001b[0;34m,\u001b[0m \u001b[0mauthors\u001b[0m\u001b[0;34m,\u001b[0m \u001b[0mprobStop\u001b[0m\u001b[0;34m)\u001b[0m\u001b[0;34m\u001b[0m\u001b[0;34m\u001b[0m\u001b[0m\n\u001b[0m\u001b[1;32m     29\u001b[0m \u001b[0;34m\u001b[0m\u001b[0m\n\u001b[1;32m     30\u001b[0m     \u001b[0;31m# add authors as members to this topic\u001b[0m\u001b[0;34m\u001b[0m\u001b[0;34m\u001b[0m\u001b[0;34m\u001b[0m\u001b[0m\n",
      "\u001b[0;32m/var/folders/qp/kbk93qxn41s488wn8qj4p7mm0000gn/T/ipykernel_92267/3277257890.py\u001b[0m in \u001b[0;36mcreatePaper\u001b[0;34m(network, authors, probStop)\u001b[0m\n\u001b[1;32m     35\u001b[0m     \u001b[0;31m# call function recursively with coauthor\u001b[0m\u001b[0;34m\u001b[0m\u001b[0;34m\u001b[0m\u001b[0;34m\u001b[0m\u001b[0m\n\u001b[1;32m     36\u001b[0m     \u001b[0mauthors\u001b[0m\u001b[0;34m.\u001b[0m\u001b[0mappend\u001b[0m\u001b[0;34m(\u001b[0m\u001b[0mcoauthorID\u001b[0m\u001b[0;34m)\u001b[0m\u001b[0;34m\u001b[0m\u001b[0;34m\u001b[0m\u001b[0m\n\u001b[0;32m---> 37\u001b[0;31m     \u001b[0mcreatePaper\u001b[0m\u001b[0;34m(\u001b[0m\u001b[0mnetwork\u001b[0m\u001b[0;34m,\u001b[0m \u001b[0mauthors\u001b[0m\u001b[0;34m,\u001b[0m \u001b[0mprobStop\u001b[0m\u001b[0;34m)\u001b[0m\u001b[0;34m\u001b[0m\u001b[0;34m\u001b[0m\u001b[0m\n\u001b[0m\u001b[1;32m     38\u001b[0m \u001b[0;34m\u001b[0m\u001b[0m\n\u001b[1;32m     39\u001b[0m \u001b[0;32mdef\u001b[0m \u001b[0mcreate\u001b[0m\u001b[0;34m(\u001b[0m\u001b[0;34m)\u001b[0m\u001b[0;34m:\u001b[0m\u001b[0;34m\u001b[0m\u001b[0;34m\u001b[0m\u001b[0m\n",
      "\u001b[0;32m/var/folders/qp/kbk93qxn41s488wn8qj4p7mm0000gn/T/ipykernel_92267/3277257890.py\u001b[0m in \u001b[0;36mcreatePaper\u001b[0;34m(network, authors, probStop)\u001b[0m\n\u001b[1;32m     27\u001b[0m     \u001b[0;32mfor\u001b[0m \u001b[0mauthor\u001b[0m \u001b[0;32min\u001b[0m \u001b[0mauthors\u001b[0m\u001b[0;34m:\u001b[0m\u001b[0;34m\u001b[0m\u001b[0;34m\u001b[0m\u001b[0m\n\u001b[1;32m     28\u001b[0m         \u001b[0;31m# if there is not an edge, create one\u001b[0m\u001b[0;34m\u001b[0m\u001b[0;34m\u001b[0m\u001b[0;34m\u001b[0m\u001b[0m\n\u001b[0;32m---> 29\u001b[0;31m         \u001b[0;32mif\u001b[0m \u001b[0;32mnot\u001b[0m \u001b[0mnetwork\u001b[0m\u001b[0;34m.\u001b[0m\u001b[0mhas_edge\u001b[0m\u001b[0;34m(\u001b[0m\u001b[0mauthor\u001b[0m\u001b[0;34m,\u001b[0m \u001b[0mcoauthorID\u001b[0m\u001b[0;34m)\u001b[0m \u001b[0;32mand\u001b[0m \u001b[0mauthor\u001b[0m \u001b[0;34m!=\u001b[0m \u001b[0mcoauthorID\u001b[0m\u001b[0;34m:\u001b[0m\u001b[0;34m\u001b[0m\u001b[0;34m\u001b[0m\u001b[0m\n\u001b[0m\u001b[1;32m     30\u001b[0m             \u001b[0mnetwork\u001b[0m\u001b[0;34m.\u001b[0m\u001b[0madd_edge\u001b[0m\u001b[0;34m(\u001b[0m\u001b[0mauthor\u001b[0m\u001b[0;34m,\u001b[0m \u001b[0mcoauthorID\u001b[0m\u001b[0;34m,\u001b[0m \u001b[0mweight\u001b[0m\u001b[0;34m=\u001b[0m\u001b[0;36m0\u001b[0m\u001b[0;34m,\u001b[0m \u001b[0mwidth\u001b[0m\u001b[0;34m=\u001b[0m\u001b[0;36m1\u001b[0m\u001b[0;34m)\u001b[0m\u001b[0;34m\u001b[0m\u001b[0;34m\u001b[0m\u001b[0m\n\u001b[1;32m     31\u001b[0m         \u001b[0mnewWeight\u001b[0m \u001b[0;34m=\u001b[0m \u001b[0mnetwork\u001b[0m\u001b[0;34m.\u001b[0m\u001b[0mget_edge_data\u001b[0m\u001b[0;34m(\u001b[0m\u001b[0mauthorID\u001b[0m\u001b[0;34m,\u001b[0m \u001b[0mcoauthorID\u001b[0m\u001b[0;34m)\u001b[0m\u001b[0;34m[\u001b[0m\u001b[0;34m\"weight\"\u001b[0m\u001b[0;34m]\u001b[0m \u001b[0;34m+\u001b[0m \u001b[0;36m1\u001b[0m\u001b[0;34m\u001b[0m\u001b[0;34m\u001b[0m\u001b[0m\n",
      "\u001b[0;31mUnboundLocalError\u001b[0m: local variable 'coauthorID' referenced before assignment"
     ]
    }
   ],
   "source": [
    "network = nx.Graph()\n",
    "scholarField = random.choice(fields)\n",
    "network.add_node(nodeID, label=scholarField, color=fieldColors[scholarField])\n",
    "# go through time steps, add new scholar and paper at each step\n",
    "for i in range(1, timeSteps):\n",
    "\n",
    "    # Choose first author, either new scholar or random choice\n",
    "    currNodes = list(network.nodes())\n",
    "    authors = [random.choice(currNodes)]\n",
    "\n",
    "    # with probability, add new author to network\n",
    "    if random.random() < pw:\n",
    "        # generate author and field\n",
    "        scholarField = random.choice(fields)\n",
    "        nodeID += 1\n",
    "        author = nodeID\n",
    "        network.add_node(author, label=scholarField, color=fieldColors[scholarField])\n",
    "\n",
    "        # generate random coauthor from currNodes, which doesn't have the new node added in\n",
    "        coauthorID = random.choice(currNodes)\n",
    "        network.add_edge(author, coauthorID, weight=1, width=1)\n",
    "\n",
    "        # update authors list\n",
    "        authors = [author, coauthorID]\n",
    "\n",
    "    # Add new paper, calling function\n",
    "    probStop = 0.3\n",
    "    createPaper(network, authors, probStop)\n",
    "\n",
    "    # add authors as members to this topic\n",
    "\n",
    "    # add emergence of new topic if field multidiscipiplinary (i.e. the union of the fields)\n",
    "\n",
    "    # do you make it the author of the paper?"
   ]
  },
  {
   "cell_type": "markdown",
   "metadata": {},
   "source": [
    "Display Network"
   ]
  },
  {
   "cell_type": "code",
   "execution_count": null,
   "metadata": {},
   "outputs": [],
   "source": [
    "nt = Network()\n",
    "# populates the nodes and edges data structures\n",
    "nt.from_nx(network)\n",
    "nt\n",
    "nt.show('testModel.html')"
   ]
  }
 ],
 "metadata": {
  "interpreter": {
   "hash": "aee8b7b246df8f9039afb4144a1f6fd8d2ca17a180786b69acc140d282b71a49"
  },
  "kernelspec": {
   "display_name": "Python 3.9.2 64-bit",
   "language": "python",
   "name": "python3"
  },
  "language_info": {
   "codemirror_mode": {
    "name": "ipython",
    "version": 3
   },
   "file_extension": ".py",
   "mimetype": "text/x-python",
   "name": "python",
   "nbconvert_exporter": "python",
   "pygments_lexer": "ipython3",
   "version": "3.9.2"
  },
  "orig_nbformat": 4
 },
 "nbformat": 4,
 "nbformat_minor": 2
}
